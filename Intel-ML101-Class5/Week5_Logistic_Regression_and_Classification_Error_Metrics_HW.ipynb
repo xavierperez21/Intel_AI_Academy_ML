{
 "cells": [
  {
   "cell_type": "markdown",
   "metadata": {
    "run_control": {
     "marked": true
    }
   },
   "source": [
    "# Week 5 - Logistic Regression and Classification Error Metrics"
   ]
  },
  {
   "cell_type": "markdown",
   "metadata": {
    "run_control": {
     "marked": true
    }
   },
   "source": [
    "## Introduction\n",
    "\n",
    "We will be using the [Human Activity Recognition with Smartphones](https://archive.ics.uci.edu/ml/datasets/Human+Activity+Recognition+Using+Smartphones) database, which was built from the recordings of study participants performing activities of daily living (ADL) while carrying a smartphone with an embedded inertial sensors. The objective is to classify activities into one of the six activities (walking, walking upstairs, walking downstairs, sitting, standing, and laying) performed.\n",
    "\n",
    "Alternatively the same data set can be found at https://www.kaggle.com/uciml/human-activity-recognition-with-smartphones/downloads/human-activity-recognition-with-smartphones.zip\n",
    "The train file can be renamed as Human_Activity_Recognition_Using_Smartphones_Data.csv \n",
    "\n",
    "For each record in the dataset it is provided: \n",
    "\n",
    "- Triaxial acceleration from the accelerometer (total acceleration) and the estimated body acceleration. \n",
    "- Triaxial Angular velocity from the gyroscope. \n",
    "- A 561-feature vector with time and frequency domain variables. \n",
    "- Its activity label. \n",
    "\n",
    "More information about the features is available on the website above."
   ]
  },
  {
   "cell_type": "code",
   "execution_count": 1,
   "metadata": {
    "run_control": {
     "marked": true
    }
   },
   "outputs": [],
   "source": [
    "from __future__ import print_function\n",
    "import os\n",
    "#Data Path has to be set as per the file location in your system\n",
    "#data_path = ['..', 'data']\n",
    "data_path = ['data']"
   ]
  },
  {
   "cell_type": "markdown",
   "metadata": {
    "run_control": {
     "marked": true
    }
   },
   "source": [
    "## Question 1\n",
    "\n",
    "Import the data and do the following:\n",
    "\n",
    "* Examine the data types--there are many columns, so it might be wise to use value counts\n",
    "* Determine if the floating point values need to be scaled\n",
    "* Determine the breakdown of each activity\n",
    "* Encode the activity label as an integer"
   ]
  },
  {
   "cell_type": "code",
   "execution_count": 2,
   "metadata": {
    "run_control": {
     "marked": true
    }
   },
   "outputs": [],
   "source": [
    "import pandas as pd\n",
    "import numpy as np\n",
    "#The filepath is dependent on the data_path set in the previous cell \n",
    "filepath = os.sep.join(data_path + ['Human_Activity_Recognition_Using_Smartphones_Data.csv'])\n",
    "data = pd.read_csv(filepath, sep=',')"
   ]
  },
  {
   "cell_type": "markdown",
   "metadata": {
    "run_control": {
     "marked": true
    }
   },
   "source": [
    "The data columns are all floats except for the activity label."
   ]
  },
  {
   "cell_type": "code",
   "execution_count": 3,
   "metadata": {
    "run_control": {
     "marked": true
    }
   },
   "outputs": [
    {
     "data": {
      "text/plain": [
       "float64    561\n",
       "object       1\n",
       "dtype: int64"
      ]
     },
     "execution_count": 3,
     "metadata": {},
     "output_type": "execute_result"
    }
   ],
   "source": [
    "data.dtypes.value_counts()"
   ]
  },
  {
   "cell_type": "code",
   "execution_count": 4,
   "metadata": {
    "run_control": {
     "marked": true
    }
   },
   "outputs": [
    {
     "data": {
      "text/plain": [
       "angle(tBodyGyroJerkMean,gravityMean)    float64\n",
       "angle(X,gravityMean)                    float64\n",
       "angle(Y,gravityMean)                    float64\n",
       "angle(Z,gravityMean)                    float64\n",
       "Activity                                 object\n",
       "dtype: object"
      ]
     },
     "execution_count": 4,
     "metadata": {},
     "output_type": "execute_result"
    }
   ],
   "source": [
    "data.dtypes.tail()"
   ]
  },
  {
   "cell_type": "markdown",
   "metadata": {
    "run_control": {
     "marked": true
    }
   },
   "source": [
    "The data are all scaled from -1 (minimum) to 1.0 (maximum)."
   ]
  },
  {
   "cell_type": "code",
   "execution_count": 5,
   "metadata": {
    "run_control": {
     "marked": true
    }
   },
   "outputs": [
    {
     "data": {
      "text/plain": [
       "-1.0    561\n",
       "dtype: int64"
      ]
     },
     "execution_count": 5,
     "metadata": {},
     "output_type": "execute_result"
    }
   ],
   "source": [
    "data.iloc[:, :-1].min().value_counts() #iloc takes all the rows and columns except the labeled one (that's why the -1)\n",
    "                                       #...Then with the min() function we select the minimum of all the values\n",
    "                                       #...And we count how many times does the -1.0 appears in all the records."
   ]
  },
  {
   "cell_type": "code",
   "execution_count": 6,
   "metadata": {
    "run_control": {
     "marked": true
    }
   },
   "outputs": [
    {
     "data": {
      "text/plain": [
       "1.0    561\n",
       "dtype: int64"
      ]
     },
     "execution_count": 6,
     "metadata": {},
     "output_type": "execute_result"
    }
   ],
   "source": [
    "data.iloc[:, :-1].max().value_counts()"
   ]
  },
  {
   "cell_type": "markdown",
   "metadata": {},
   "source": [
    "Examine the breakdown of activities--they are relatively balanced."
   ]
  },
  {
   "cell_type": "code",
   "execution_count": 7,
   "metadata": {},
   "outputs": [
    {
     "name": "stdout",
     "output_type": "stream",
     "text": [
      "(10299, 562)\n"
     ]
    },
    {
     "data": {
      "text/plain": [
       "LAYING                1944\n",
       "STANDING              1906\n",
       "SITTING               1777\n",
       "WALKING               1722\n",
       "WALKING_UPSTAIRS      1544\n",
       "WALKING_DOWNSTAIRS    1406\n",
       "Name: Activity, dtype: int64"
      ]
     },
     "execution_count": 7,
     "metadata": {},
     "output_type": "execute_result"
    }
   ],
   "source": [
    "print(data.shape) #Number of total rows and columns\n",
    "data.Activity.value_counts()"
   ]
  },
  {
   "cell_type": "markdown",
   "metadata": {},
   "source": [
    "Scikit learn classifiers won't accept a sparse matrix for the prediction column. Thus, either `LabelEncoder` needs to be used to convert the activity labels to integers, or if `DictVectorizer` is used, the resulting matrix must be converted to a non-sparse array.  \n",
    "Use `LabelEncoder` to fit_transform the \"Activity\" column, and look at 5 random values."
   ]
  },
  {
   "cell_type": "code",
   "execution_count": 8,
   "metadata": {},
   "outputs": [
    {
     "name": "stdout",
     "output_type": "stream",
     "text": [
      "[2 1 0 3 4 5]\n"
     ]
    },
    {
     "data": {
      "text/plain": [
       "4825    3\n",
       "6731    3\n",
       "8969    3\n",
       "206     1\n",
       "6346    0\n",
       "Name: Activity, dtype: int64"
      ]
     },
     "execution_count": 8,
     "metadata": {},
     "output_type": "execute_result"
    }
   ],
   "source": [
    "from sklearn.preprocessing import LabelEncoder\n",
    "\n",
    "le = LabelEncoder()\n",
    "data['Activity'] = le.fit_transform(data.Activity)\n",
    "\n",
    "print(data['Activity'].unique())\n",
    "\n",
    "data['Activity'].sample(5)"
   ]
  },
  {
   "cell_type": "markdown",
   "metadata": {},
   "source": [
    "## Question 2\n",
    "\n",
    "* Calculate the correlations between the dependent variables.\n",
    "* Create a histogram of the correlation values\n",
    "* Identify those that are most correlated (either positively or negatively)."
   ]
  },
  {
   "cell_type": "markdown",
   "metadata": {},
   "source": [
    "### First, i'm going to show you what is happening in the true cell of code with the next example:"
   ]
  },
  {
   "cell_type": "code",
   "execution_count": 9,
   "metadata": {},
   "outputs": [
    {
     "name": "stdout",
     "output_type": "stream",
     "text": [
      "                   tBodyAcc-mean()-X  tBodyAcc-mean()-Y  tBodyAcc-mean()-Z\n",
      "tBodyAcc-mean()-X           1.000000           0.128037          -0.230302\n",
      "tBodyAcc-mean()-Y           0.128037           1.000000          -0.029882\n",
      "tBodyAcc-mean()-Z          -0.230302          -0.029882           1.000000\n",
      "(array([0, 1, 1, 2, 2, 2]), array([0, 0, 1, 0, 1, 2]))\n",
      "(0, 0)\n",
      "(1, 0)\n",
      "(1, 1)\n",
      "(2, 0)\n",
      "(2, 1)\n",
      "(2, 2)\n",
      "                   tBodyAcc-mean()-X  tBodyAcc-mean()-Y  tBodyAcc-mean()-Z\n",
      "tBodyAcc-mean()-X                NaN           0.128037          -0.230302\n",
      "tBodyAcc-mean()-Y                NaN                NaN          -0.029882\n",
      "tBodyAcc-mean()-Z                NaN                NaN                NaN\n",
      "            feature1           feature2  correlation  abs_correlation\n",
      "0  tBodyAcc-mean()-X  tBodyAcc-mean()-Y     0.128037         0.128037\n",
      "1  tBodyAcc-mean()-X  tBodyAcc-mean()-Z    -0.230302         0.230302\n",
      "2  tBodyAcc-mean()-Y  tBodyAcc-mean()-Z    -0.029882         0.029882\n"
     ]
    }
   ],
   "source": [
    "correl_values = data.iloc[:,0:3].corr()\n",
    "print(correl_values) #Here we can see an example of what the function corr() does, and what is the...\n",
    "                     #...meaning of the 'below the diagonal' that is all the repeated values under...\n",
    "                     #...the diagonal of ones.\n",
    "        \n",
    "trill_index = np.tril_indices_from(correl_values)\n",
    "print(trill_index)         #With this function (tril_indices_from) we detect the indices where the data is repeated\n",
    "\n",
    "# Make the unused values NaNs\n",
    "for coord in zip(*trill_index):   #Remember that zip function joins two lists\n",
    "    print(coord)\n",
    "    correl_values.iloc[coord[0], coord[1]] = np.NaN\n",
    "    \n",
    "print(correl_values)\n",
    "\n",
    "correl_values = (correl_values.stack().to_frame().reset_index().rename(columns={'level_0':'feature1','level_1':'feature2',0:'correlation'}))\n",
    "\n",
    "# Get the absolute values for sorting\n",
    "correl_values['abs_correlation'] = correl_values.correlation.abs()\n",
    "\n",
    "print(correl_values)"
   ]
  },
  {
   "cell_type": "markdown",
   "metadata": {},
   "source": [
    "## This is the true cell for the exercise, so now you know the \"theory\" behind the code"
   ]
  },
  {
   "cell_type": "code",
   "execution_count": 10,
   "metadata": {},
   "outputs": [],
   "source": [
    "# Calculate the correlation values\n",
    "feature_cols = data.columns[:-1]\n",
    "corr_values = data[feature_cols].corr()\n",
    "\n",
    "# Simplify by emptying all the data below the diagonal\n",
    "tril_index = np.tril_indices_from(corr_values)\n",
    "\n",
    "# Make the unused values NaNs\n",
    "for coord in zip(*tril_index):\n",
    "    corr_values.iloc[coord[0], coord[1]] = np.NaN\n",
    "    \n",
    "# Stack the data and convert to a data frame\n",
    "corr_values = (corr_values.stack().to_frame().reset_index().rename(columns={'level_0':'feature1','level_1':'feature2',0:'correlation'}))\n",
    "\n",
    "# Get the absolute values for sorting\n",
    "corr_values['abs_correlation'] = corr_values.correlation.abs()"
   ]
  },
  {
   "cell_type": "markdown",
   "metadata": {},
   "source": [
    "A histogram of the absolute value correlations."
   ]
  },
  {
   "cell_type": "code",
   "execution_count": 11,
   "metadata": {},
   "outputs": [],
   "source": [
    "import matplotlib.pyplot as plt\n",
    "import seaborn as sns\n",
    "%matplotlib inline"
   ]
  },
  {
   "cell_type": "code",
   "execution_count": 12,
   "metadata": {},
   "outputs": [
    {
     "data": {
      "image/png": "[encoded data removed]",
      "text/plain": [
       "<Figure size 432x288 with 1 Axes>"
      ]
     },
     "metadata": {},
     "output_type": "display_data"
    }
   ],
   "source": [
    "sns.set_context('talk')\n",
    "sns.set_style('white')\n",
    "sns.set_palette('dark')\n",
    "\n",
    "ax = corr_values.abs_correlation.hist(bins=50)  #bins refers to the number of bars, not the number of samples...\n",
    "                                                #...It's just to see the data more specific..\n",
    "\n",
    "ax.set(xlabel='Absolute Correlation', ylabel='Frequency');"
   ]
  },
  {
   "cell_type": "code",
   "execution_count": 13,
   "metadata": {},
   "outputs": [
    {
     "data": {
      "text/html": [
       "<div>\n",
       "<style scoped>\n",
       "    .dataframe tbody tr th:only-of-type {\n",
       "        vertical-align: middle;\n",
       "    }\n",
       "\n",
       "    .dataframe tbody tr th {\n",
       "        vertical-align: top;\n",
       "    }\n",
       "\n",
       "    .dataframe thead th {\n",
       "        text-align: right;\n",
       "    }\n",
       "</style>\n",
       "<table border=\"1\" class=\"dataframe\">\n",
       "  <thead>\n",
       "    <tr style=\"text-align: right;\">\n",
       "      <th></th>\n",
       "      <th>feature1</th>\n",
       "      <th>feature2</th>\n",
       "      <th>correlation</th>\n",
       "      <th>abs_correlation</th>\n",
       "    </tr>\n",
       "  </thead>\n",
       "  <tbody>\n",
       "    <tr>\n",
       "      <th>93902</th>\n",
       "      <td>tBodyAccMag-sma()</td>\n",
       "      <td>tGravityAccMag-sma()</td>\n",
       "      <td>1.000000</td>\n",
       "      <td>1.000000</td>\n",
       "    </tr>\n",
       "    <tr>\n",
       "      <th>96017</th>\n",
       "      <td>tBodyAccMag-arCoeff()3</td>\n",
       "      <td>tGravityAccMag-arCoeff()3</td>\n",
       "      <td>1.000000</td>\n",
       "      <td>1.000000</td>\n",
       "    </tr>\n",
       "    <tr>\n",
       "      <th>94964</th>\n",
       "      <td>tBodyAccMag-entropy()</td>\n",
       "      <td>tGravityAccMag-entropy()</td>\n",
       "      <td>1.000000</td>\n",
       "      <td>1.000000</td>\n",
       "    </tr>\n",
       "    <tr>\n",
       "      <th>96706</th>\n",
       "      <td>tGravityAccMag-mean()</td>\n",
       "      <td>tGravityAccMag-sma()</td>\n",
       "      <td>1.000000</td>\n",
       "      <td>1.000000</td>\n",
       "    </tr>\n",
       "    <tr>\n",
       "      <th>93546</th>\n",
       "      <td>tBodyAccMag-min()</td>\n",
       "      <td>tGravityAccMag-min()</td>\n",
       "      <td>1.000000</td>\n",
       "      <td>1.000000</td>\n",
       "    </tr>\n",
       "    <tr>\n",
       "      <th>93189</th>\n",
       "      <td>tBodyAccMag-max()</td>\n",
       "      <td>tGravityAccMag-max()</td>\n",
       "      <td>1.000000</td>\n",
       "      <td>1.000000</td>\n",
       "    </tr>\n",
       "    <tr>\n",
       "      <th>156894</th>\n",
       "      <td>fBodyBodyGyroJerkMag-mean()</td>\n",
       "      <td>fBodyBodyGyroJerkMag-sma()</td>\n",
       "      <td>1.000000</td>\n",
       "      <td>1.000000</td>\n",
       "    </tr>\n",
       "    <tr>\n",
       "      <th>93897</th>\n",
       "      <td>tBodyAccMag-sma()</td>\n",
       "      <td>tGravityAccMag-mean()</td>\n",
       "      <td>1.000000</td>\n",
       "      <td>1.000000</td>\n",
       "    </tr>\n",
       "    <tr>\n",
       "      <th>92472</th>\n",
       "      <td>tBodyAccMag-std()</td>\n",
       "      <td>tGravityAccMag-std()</td>\n",
       "      <td>1.000000</td>\n",
       "      <td>1.000000</td>\n",
       "    </tr>\n",
       "    <tr>\n",
       "      <th>155373</th>\n",
       "      <td>fBodyAccMag-mean()</td>\n",
       "      <td>fBodyAccMag-sma()</td>\n",
       "      <td>1.000000</td>\n",
       "      <td>1.000000</td>\n",
       "    </tr>\n",
       "    <tr>\n",
       "      <th>92117</th>\n",
       "      <td>tBodyAccMag-mean()</td>\n",
       "      <td>tGravityAccMag-sma()</td>\n",
       "      <td>1.000000</td>\n",
       "      <td>1.000000</td>\n",
       "    </tr>\n",
       "    <tr>\n",
       "      <th>94611</th>\n",
       "      <td>tBodyAccMag-iqr()</td>\n",
       "      <td>tGravityAccMag-iqr()</td>\n",
       "      <td>1.000000</td>\n",
       "      <td>1.000000</td>\n",
       "    </tr>\n",
       "    <tr>\n",
       "      <th>92112</th>\n",
       "      <td>tBodyAccMag-mean()</td>\n",
       "      <td>tGravityAccMag-mean()</td>\n",
       "      <td>1.000000</td>\n",
       "      <td>1.000000</td>\n",
       "    </tr>\n",
       "    <tr>\n",
       "      <th>105403</th>\n",
       "      <td>tBodyGyroMag-mean()</td>\n",
       "      <td>tBodyGyroMag-sma()</td>\n",
       "      <td>1.000000</td>\n",
       "      <td>1.000000</td>\n",
       "    </tr>\n",
       "    <tr>\n",
       "      <th>101139</th>\n",
       "      <td>tBodyAccJerkMag-mean()</td>\n",
       "      <td>tBodyAccJerkMag-sma()</td>\n",
       "      <td>1.000000</td>\n",
       "      <td>1.000000</td>\n",
       "    </tr>\n",
       "    <tr>\n",
       "      <th>92104</th>\n",
       "      <td>tBodyAccMag-mean()</td>\n",
       "      <td>tBodyAccMag-sma()</td>\n",
       "      <td>1.000000</td>\n",
       "      <td>1.000000</td>\n",
       "    </tr>\n",
       "    <tr>\n",
       "      <th>156556</th>\n",
       "      <td>fBodyBodyGyroMag-mean()</td>\n",
       "      <td>fBodyBodyGyroMag-sma()</td>\n",
       "      <td>1.000000</td>\n",
       "      <td>1.000000</td>\n",
       "    </tr>\n",
       "    <tr>\n",
       "      <th>109498</th>\n",
       "      <td>tBodyGyroJerkMag-mean()</td>\n",
       "      <td>tBodyGyroJerkMag-sma()</td>\n",
       "      <td>1.000000</td>\n",
       "      <td>1.000000</td>\n",
       "    </tr>\n",
       "    <tr>\n",
       "      <th>92831</th>\n",
       "      <td>tBodyAccMag-mad()</td>\n",
       "      <td>tGravityAccMag-mad()</td>\n",
       "      <td>1.000000</td>\n",
       "      <td>1.000000</td>\n",
       "    </tr>\n",
       "    <tr>\n",
       "      <th>96366</th>\n",
       "      <td>tBodyAccMag-arCoeff()4</td>\n",
       "      <td>tGravityAccMag-arCoeff()4</td>\n",
       "      <td>1.000000</td>\n",
       "      <td>1.000000</td>\n",
       "    </tr>\n",
       "    <tr>\n",
       "      <th>94257</th>\n",
       "      <td>tBodyAccMag-energy()</td>\n",
       "      <td>tGravityAccMag-energy()</td>\n",
       "      <td>1.000000</td>\n",
       "      <td>1.000000</td>\n",
       "    </tr>\n",
       "    <tr>\n",
       "      <th>95316</th>\n",
       "      <td>tBodyAccMag-arCoeff()1</td>\n",
       "      <td>tGravityAccMag-arCoeff()1</td>\n",
       "      <td>1.000000</td>\n",
       "      <td>1.000000</td>\n",
       "    </tr>\n",
       "    <tr>\n",
       "      <th>95667</th>\n",
       "      <td>tBodyAccMag-arCoeff()2</td>\n",
       "      <td>tGravityAccMag-arCoeff()2</td>\n",
       "      <td>1.000000</td>\n",
       "      <td>1.000000</td>\n",
       "    </tr>\n",
       "    <tr>\n",
       "      <th>156049</th>\n",
       "      <td>fBodyBodyAccJerkMag-mean()</td>\n",
       "      <td>fBodyBodyAccJerkMag-sma()</td>\n",
       "      <td>1.000000</td>\n",
       "      <td>1.000000</td>\n",
       "    </tr>\n",
       "    <tr>\n",
       "      <th>50390</th>\n",
       "      <td>tBodyAccJerk-energy()-Z</td>\n",
       "      <td>fBodyAccJerk-energy()-Z</td>\n",
       "      <td>1.000000</td>\n",
       "      <td>1.000000</td>\n",
       "    </tr>\n",
       "    <tr>\n",
       "      <th>49927</th>\n",
       "      <td>tBodyAccJerk-energy()-Y</td>\n",
       "      <td>fBodyAccJerk-energy()-Y</td>\n",
       "      <td>1.000000</td>\n",
       "      <td>1.000000</td>\n",
       "    </tr>\n",
       "    <tr>\n",
       "      <th>49463</th>\n",
       "      <td>tBodyAccJerk-energy()-X</td>\n",
       "      <td>fBodyAccJerk-energy()-X</td>\n",
       "      <td>0.999999</td>\n",
       "      <td>0.999999</td>\n",
       "    </tr>\n",
       "    <tr>\n",
       "      <th>118052</th>\n",
       "      <td>fBodyAcc-energy()-X</td>\n",
       "      <td>fBodyAcc-bandsEnergy()-1,24</td>\n",
       "      <td>0.999864</td>\n",
       "      <td>0.999864</td>\n",
       "    </tr>\n",
       "    <tr>\n",
       "      <th>149731</th>\n",
       "      <td>fBodyGyro-energy()-X</td>\n",
       "      <td>fBodyGyro-bandsEnergy()-1,24</td>\n",
       "      <td>0.999773</td>\n",
       "      <td>0.999773</td>\n",
       "    </tr>\n",
       "    <tr>\n",
       "      <th>118344</th>\n",
       "      <td>fBodyAcc-energy()-Y</td>\n",
       "      <td>fBodyAcc-bandsEnergy()-1,24.1</td>\n",
       "      <td>0.999635</td>\n",
       "      <td>0.999635</td>\n",
       "    </tr>\n",
       "    <tr>\n",
       "      <th>...</th>\n",
       "      <td>...</td>\n",
       "      <td>...</td>\n",
       "      <td>...</td>\n",
       "      <td>...</td>\n",
       "    </tr>\n",
       "    <tr>\n",
       "      <th>116159</th>\n",
       "      <td>fBodyAcc-max()-X</td>\n",
       "      <td>fBodyAccJerk-bandsEnergy()-1,8.1</td>\n",
       "      <td>0.800194</td>\n",
       "      <td>0.800194</td>\n",
       "    </tr>\n",
       "    <tr>\n",
       "      <th>117774</th>\n",
       "      <td>fBodyAcc-sma()</td>\n",
       "      <td>fBodyAcc-bandsEnergy()-25,48</td>\n",
       "      <td>0.800181</td>\n",
       "      <td>0.800181</td>\n",
       "    </tr>\n",
       "    <tr>\n",
       "      <th>133912</th>\n",
       "      <td>fBodyAccJerk-mean()-Y</td>\n",
       "      <td>fBodyAccJerk-bandsEnergy()-25,32.1</td>\n",
       "      <td>0.800181</td>\n",
       "      <td>0.800181</td>\n",
       "    </tr>\n",
       "    <tr>\n",
       "      <th>45745</th>\n",
       "      <td>tBodyAccJerk-mad()-Z</td>\n",
       "      <td>fBodyAccJerk-bandsEnergy()-9,16</td>\n",
       "      <td>0.800176</td>\n",
       "      <td>0.800176</td>\n",
       "    </tr>\n",
       "    <tr>\n",
       "      <th>145395</th>\n",
       "      <td>fBodyAccJerk-bandsEnergy()-1,24.1</td>\n",
       "      <td>fBodyAccMag-mad()</td>\n",
       "      <td>0.800171</td>\n",
       "      <td>0.800171</td>\n",
       "    </tr>\n",
       "    <tr>\n",
       "      <th>105631</th>\n",
       "      <td>tBodyGyroMag-mean()</td>\n",
       "      <td>fBodyGyro-bandsEnergy()-1,24</td>\n",
       "      <td>0.800162</td>\n",
       "      <td>0.800162</td>\n",
       "    </tr>\n",
       "    <tr>\n",
       "      <th>107221</th>\n",
       "      <td>tBodyGyroMag-sma()</td>\n",
       "      <td>fBodyGyro-bandsEnergy()-1,24</td>\n",
       "      <td>0.800162</td>\n",
       "      <td>0.800162</td>\n",
       "    </tr>\n",
       "    <tr>\n",
       "      <th>46079</th>\n",
       "      <td>tBodyAccJerk-max()-X</td>\n",
       "      <td>tBodyGyroMag-energy()</td>\n",
       "      <td>0.800162</td>\n",
       "      <td>0.800162</td>\n",
       "    </tr>\n",
       "    <tr>\n",
       "      <th>149180</th>\n",
       "      <td>fBodyGyro-max()-Z</td>\n",
       "      <td>fBodyBodyGyroMag-entropy()</td>\n",
       "      <td>0.800160</td>\n",
       "      <td>0.800160</td>\n",
       "    </tr>\n",
       "    <tr>\n",
       "      <th>101627</th>\n",
       "      <td>tBodyAccJerkMag-std()</td>\n",
       "      <td>fBodyAccJerk-bandsEnergy()-41,48</td>\n",
       "      <td>0.800159</td>\n",
       "      <td>0.800159</td>\n",
       "    </tr>\n",
       "    <tr>\n",
       "      <th>49697</th>\n",
       "      <td>tBodyAccJerk-energy()-Y</td>\n",
       "      <td>tBodyGyro-max()-Z</td>\n",
       "      <td>0.800155</td>\n",
       "      <td>0.800155</td>\n",
       "    </tr>\n",
       "    <tr>\n",
       "      <th>107560</th>\n",
       "      <td>tBodyGyroMag-energy()</td>\n",
       "      <td>fBodyGyro-bandsEnergy()-1,16.2</td>\n",
       "      <td>0.800143</td>\n",
       "      <td>0.800143</td>\n",
       "    </tr>\n",
       "    <tr>\n",
       "      <th>46618</th>\n",
       "      <td>tBodyAccJerk-max()-Y</td>\n",
       "      <td>fBodyAcc-bandsEnergy()-1,24</td>\n",
       "      <td>0.800134</td>\n",
       "      <td>0.800134</td>\n",
       "    </tr>\n",
       "    <tr>\n",
       "      <th>138386</th>\n",
       "      <td>fBodyAccJerk-entropy()-Y</td>\n",
       "      <td>fBodyAccJerk-bandsEnergy()-1,8.1</td>\n",
       "      <td>0.800120</td>\n",
       "      <td>0.800120</td>\n",
       "    </tr>\n",
       "    <tr>\n",
       "      <th>65074</th>\n",
       "      <td>tBodyGyro-max()-Z</td>\n",
       "      <td>fBodyAccJerk-energy()-Y</td>\n",
       "      <td>0.800111</td>\n",
       "      <td>0.800111</td>\n",
       "    </tr>\n",
       "    <tr>\n",
       "      <th>83976</th>\n",
       "      <td>tBodyGyroJerk-energy()-Z</td>\n",
       "      <td>tBodyAccJerkMag-mad()</td>\n",
       "      <td>0.800104</td>\n",
       "      <td>0.800104</td>\n",
       "    </tr>\n",
       "    <tr>\n",
       "      <th>10036</th>\n",
       "      <td>tBodyAcc-energy()-Z</td>\n",
       "      <td>tBodyGyro-mad()-Z</td>\n",
       "      <td>0.800100</td>\n",
       "      <td>0.800100</td>\n",
       "    </tr>\n",
       "    <tr>\n",
       "      <th>124777</th>\n",
       "      <td>fBodyAcc-bandsEnergy()-33,40</td>\n",
       "      <td>fBodyAccJerk-bandsEnergy()-1,16</td>\n",
       "      <td>0.800099</td>\n",
       "      <td>0.800099</td>\n",
       "    </tr>\n",
       "    <tr>\n",
       "      <th>64208</th>\n",
       "      <td>tBodyGyro-max()-X</td>\n",
       "      <td>fBodyAccJerk-max()-Y</td>\n",
       "      <td>0.800085</td>\n",
       "      <td>0.800085</td>\n",
       "    </tr>\n",
       "    <tr>\n",
       "      <th>66733</th>\n",
       "      <td>tBodyGyro-sma()</td>\n",
       "      <td>fBodyAcc-bandsEnergy()-1,24</td>\n",
       "      <td>0.800076</td>\n",
       "      <td>0.800076</td>\n",
       "    </tr>\n",
       "    <tr>\n",
       "      <th>67123</th>\n",
       "      <td>tBodyGyro-energy()-X</td>\n",
       "      <td>fBodyAcc-sma()</td>\n",
       "      <td>0.800066</td>\n",
       "      <td>0.800066</td>\n",
       "    </tr>\n",
       "    <tr>\n",
       "      <th>43779</th>\n",
       "      <td>tBodyAccJerk-std()-Y</td>\n",
       "      <td>fBodyAcc-bandsEnergy()-1,16</td>\n",
       "      <td>0.800060</td>\n",
       "      <td>0.800060</td>\n",
       "    </tr>\n",
       "    <tr>\n",
       "      <th>98217</th>\n",
       "      <td>tGravityAccMag-min()</td>\n",
       "      <td>fBodyAccJerk-mad()-Y</td>\n",
       "      <td>0.800032</td>\n",
       "      <td>0.800032</td>\n",
       "    </tr>\n",
       "    <tr>\n",
       "      <th>93680</th>\n",
       "      <td>tBodyAccMag-min()</td>\n",
       "      <td>fBodyAccJerk-mad()-Y</td>\n",
       "      <td>0.800032</td>\n",
       "      <td>0.800032</td>\n",
       "    </tr>\n",
       "    <tr>\n",
       "      <th>47202</th>\n",
       "      <td>tBodyAccJerk-max()-Z</td>\n",
       "      <td>fBodyGyro-mad()-X</td>\n",
       "      <td>0.800030</td>\n",
       "      <td>0.800030</td>\n",
       "    </tr>\n",
       "    <tr>\n",
       "      <th>9895</th>\n",
       "      <td>tBodyAcc-energy()-Y</td>\n",
       "      <td>fBodyBodyGyroMag-std()</td>\n",
       "      <td>0.800024</td>\n",
       "      <td>0.800024</td>\n",
       "    </tr>\n",
       "    <tr>\n",
       "      <th>50659</th>\n",
       "      <td>tBodyAccJerk-iqr()-X</td>\n",
       "      <td>tBodyGyroJerk-max()-Y</td>\n",
       "      <td>0.800019</td>\n",
       "      <td>0.800019</td>\n",
       "    </tr>\n",
       "    <tr>\n",
       "      <th>115040</th>\n",
       "      <td>fBodyAcc-std()-Z</td>\n",
       "      <td>fBodyGyro-std()-X</td>\n",
       "      <td>0.800002</td>\n",
       "      <td>0.800002</td>\n",
       "    </tr>\n",
       "    <tr>\n",
       "      <th>93597</th>\n",
       "      <td>tBodyAccMag-min()</td>\n",
       "      <td>fBodyAcc-std()-X</td>\n",
       "      <td>0.800001</td>\n",
       "      <td>0.800001</td>\n",
       "    </tr>\n",
       "    <tr>\n",
       "      <th>98134</th>\n",
       "      <td>tGravityAccMag-min()</td>\n",
       "      <td>fBodyAcc-std()-X</td>\n",
       "      <td>0.800001</td>\n",
       "      <td>0.800001</td>\n",
       "    </tr>\n",
       "  </tbody>\n",
       "</table>\n",
       "<p>22815 rows × 4 columns</p>\n",
       "</div>"
      ],
      "text/plain": [
       "                                 feature1                            feature2  \\\n",
       "93902                   tBodyAccMag-sma()                tGravityAccMag-sma()   \n",
       "96017              tBodyAccMag-arCoeff()3           tGravityAccMag-arCoeff()3   \n",
       "94964               tBodyAccMag-entropy()            tGravityAccMag-entropy()   \n",
       "96706               tGravityAccMag-mean()                tGravityAccMag-sma()   \n",
       "93546                   tBodyAccMag-min()                tGravityAccMag-min()   \n",
       "93189                   tBodyAccMag-max()                tGravityAccMag-max()   \n",
       "156894        fBodyBodyGyroJerkMag-mean()          fBodyBodyGyroJerkMag-sma()   \n",
       "93897                   tBodyAccMag-sma()               tGravityAccMag-mean()   \n",
       "92472                   tBodyAccMag-std()                tGravityAccMag-std()   \n",
       "155373                 fBodyAccMag-mean()                   fBodyAccMag-sma()   \n",
       "92117                  tBodyAccMag-mean()                tGravityAccMag-sma()   \n",
       "94611                   tBodyAccMag-iqr()                tGravityAccMag-iqr()   \n",
       "92112                  tBodyAccMag-mean()               tGravityAccMag-mean()   \n",
       "105403                tBodyGyroMag-mean()                  tBodyGyroMag-sma()   \n",
       "101139             tBodyAccJerkMag-mean()               tBodyAccJerkMag-sma()   \n",
       "92104                  tBodyAccMag-mean()                   tBodyAccMag-sma()   \n",
       "156556            fBodyBodyGyroMag-mean()              fBodyBodyGyroMag-sma()   \n",
       "109498            tBodyGyroJerkMag-mean()              tBodyGyroJerkMag-sma()   \n",
       "92831                   tBodyAccMag-mad()                tGravityAccMag-mad()   \n",
       "96366              tBodyAccMag-arCoeff()4           tGravityAccMag-arCoeff()4   \n",
       "94257                tBodyAccMag-energy()             tGravityAccMag-energy()   \n",
       "95316              tBodyAccMag-arCoeff()1           tGravityAccMag-arCoeff()1   \n",
       "95667              tBodyAccMag-arCoeff()2           tGravityAccMag-arCoeff()2   \n",
       "156049         fBodyBodyAccJerkMag-mean()           fBodyBodyAccJerkMag-sma()   \n",
       "50390             tBodyAccJerk-energy()-Z             fBodyAccJerk-energy()-Z   \n",
       "49927             tBodyAccJerk-energy()-Y             fBodyAccJerk-energy()-Y   \n",
       "49463             tBodyAccJerk-energy()-X             fBodyAccJerk-energy()-X   \n",
       "118052                fBodyAcc-energy()-X         fBodyAcc-bandsEnergy()-1,24   \n",
       "149731               fBodyGyro-energy()-X        fBodyGyro-bandsEnergy()-1,24   \n",
       "118344                fBodyAcc-energy()-Y       fBodyAcc-bandsEnergy()-1,24.1   \n",
       "...                                   ...                                 ...   \n",
       "116159                   fBodyAcc-max()-X    fBodyAccJerk-bandsEnergy()-1,8.1   \n",
       "117774                     fBodyAcc-sma()        fBodyAcc-bandsEnergy()-25,48   \n",
       "133912              fBodyAccJerk-mean()-Y  fBodyAccJerk-bandsEnergy()-25,32.1   \n",
       "45745                tBodyAccJerk-mad()-Z     fBodyAccJerk-bandsEnergy()-9,16   \n",
       "145395  fBodyAccJerk-bandsEnergy()-1,24.1                   fBodyAccMag-mad()   \n",
       "105631                tBodyGyroMag-mean()        fBodyGyro-bandsEnergy()-1,24   \n",
       "107221                 tBodyGyroMag-sma()        fBodyGyro-bandsEnergy()-1,24   \n",
       "46079                tBodyAccJerk-max()-X               tBodyGyroMag-energy()   \n",
       "149180                  fBodyGyro-max()-Z          fBodyBodyGyroMag-entropy()   \n",
       "101627              tBodyAccJerkMag-std()    fBodyAccJerk-bandsEnergy()-41,48   \n",
       "49697             tBodyAccJerk-energy()-Y                   tBodyGyro-max()-Z   \n",
       "107560              tBodyGyroMag-energy()      fBodyGyro-bandsEnergy()-1,16.2   \n",
       "46618                tBodyAccJerk-max()-Y         fBodyAcc-bandsEnergy()-1,24   \n",
       "138386           fBodyAccJerk-entropy()-Y    fBodyAccJerk-bandsEnergy()-1,8.1   \n",
       "65074                   tBodyGyro-max()-Z             fBodyAccJerk-energy()-Y   \n",
       "83976            tBodyGyroJerk-energy()-Z               tBodyAccJerkMag-mad()   \n",
       "10036                 tBodyAcc-energy()-Z                   tBodyGyro-mad()-Z   \n",
       "124777       fBodyAcc-bandsEnergy()-33,40     fBodyAccJerk-bandsEnergy()-1,16   \n",
       "64208                   tBodyGyro-max()-X                fBodyAccJerk-max()-Y   \n",
       "66733                     tBodyGyro-sma()         fBodyAcc-bandsEnergy()-1,24   \n",
       "67123                tBodyGyro-energy()-X                      fBodyAcc-sma()   \n",
       "43779                tBodyAccJerk-std()-Y         fBodyAcc-bandsEnergy()-1,16   \n",
       "98217                tGravityAccMag-min()                fBodyAccJerk-mad()-Y   \n",
       "93680                   tBodyAccMag-min()                fBodyAccJerk-mad()-Y   \n",
       "47202                tBodyAccJerk-max()-Z                   fBodyGyro-mad()-X   \n",
       "9895                  tBodyAcc-energy()-Y              fBodyBodyGyroMag-std()   \n",
       "50659                tBodyAccJerk-iqr()-X               tBodyGyroJerk-max()-Y   \n",
       "115040                   fBodyAcc-std()-Z                   fBodyGyro-std()-X   \n",
       "93597                   tBodyAccMag-min()                    fBodyAcc-std()-X   \n",
       "98134                tGravityAccMag-min()                    fBodyAcc-std()-X   \n",
       "\n",
       "        correlation  abs_correlation  \n",
       "93902      1.000000         1.000000  \n",
       "96017      1.000000         1.000000  \n",
       "94964      1.000000         1.000000  \n",
       "96706      1.000000         1.000000  \n",
       "93546      1.000000         1.000000  \n",
       "93189      1.000000         1.000000  \n",
       "156894     1.000000         1.000000  \n",
       "93897      1.000000         1.000000  \n",
       "92472      1.000000         1.000000  \n",
       "155373     1.000000         1.000000  \n",
       "92117      1.000000         1.000000  \n",
       "94611      1.000000         1.000000  \n",
       "92112      1.000000         1.000000  \n",
       "105403     1.000000         1.000000  \n",
       "101139     1.000000         1.000000  \n",
       "92104      1.000000         1.000000  \n",
       "156556     1.000000         1.000000  \n",
       "109498     1.000000         1.000000  \n",
       "92831      1.000000         1.000000  \n",
       "96366      1.000000         1.000000  \n",
       "94257      1.000000         1.000000  \n",
       "95316      1.000000         1.000000  \n",
       "95667      1.000000         1.000000  \n",
       "156049     1.000000         1.000000  \n",
       "50390      1.000000         1.000000  \n",
       "49927      1.000000         1.000000  \n",
       "49463      0.999999         0.999999  \n",
       "118052     0.999864         0.999864  \n",
       "149731     0.999773         0.999773  \n",
       "118344     0.999635         0.999635  \n",
       "...             ...              ...  \n",
       "116159     0.800194         0.800194  \n",
       "117774     0.800181         0.800181  \n",
       "133912     0.800181         0.800181  \n",
       "45745      0.800176         0.800176  \n",
       "145395     0.800171         0.800171  \n",
       "105631     0.800162         0.800162  \n",
       "107221     0.800162         0.800162  \n",
       "46079      0.800162         0.800162  \n",
       "149180     0.800160         0.800160  \n",
       "101627     0.800159         0.800159  \n",
       "49697      0.800155         0.800155  \n",
       "107560     0.800143         0.800143  \n",
       "46618      0.800134         0.800134  \n",
       "138386     0.800120         0.800120  \n",
       "65074      0.800111         0.800111  \n",
       "83976      0.800104         0.800104  \n",
       "10036      0.800100         0.800100  \n",
       "124777     0.800099         0.800099  \n",
       "64208      0.800085         0.800085  \n",
       "66733      0.800076         0.800076  \n",
       "67123      0.800066         0.800066  \n",
       "43779      0.800060         0.800060  \n",
       "98217      0.800032         0.800032  \n",
       "93680      0.800032         0.800032  \n",
       "47202      0.800030         0.800030  \n",
       "9895       0.800024         0.800024  \n",
       "50659      0.800019         0.800019  \n",
       "115040     0.800002         0.800002  \n",
       "93597      0.800001         0.800001  \n",
       "98134      0.800001         0.800001  \n",
       "\n",
       "[22815 rows x 4 columns]"
      ]
     },
     "execution_count": 13,
     "metadata": {},
     "output_type": "execute_result"
    }
   ],
   "source": [
    "# The most highly correlated values\n",
    "corr_values.sort_values('abs_correlation', ascending=False).query('abs_correlation>0.8')"
   ]
  },
  {
   "cell_type": "markdown",
   "metadata": {},
   "source": [
    "## Question 3\n",
    "\n",
    "* Split the data into train and test data sets. This can be done using any method, but consider using Scikit-learn's `StratifiedShuffleSplit` to maintain the same ratio of predictor classes.\n",
    "* Regardless of methods used to split the data, compare the ratio of classes in both the train and test splits.\n"
   ]
  },
  {
   "cell_type": "code",
   "execution_count": 14,
   "metadata": {},
   "outputs": [],
   "source": [
    "from sklearn.model_selection import StratifiedShuffleSplit #División aleatoria estratificada\n",
    "\n",
    "# Get the split indexes\n",
    "strat_shuf_split = StratifiedShuffleSplit(n_splits=1,test_size=0.3, random_state=42)\n",
    "\n",
    "train_idx, test_idx = next(strat_shuf_split.split(data[feature_cols], data.Activity))\n",
    "                        #next method is used when a file is used as an iterator, \n",
    "                        #so i think that each time the function split delivers an index to train_ids, and test_idx\n",
    "\n",
    "# Create the dataframes\n",
    "X_train = data.loc[train_idx, feature_cols]\n",
    "y_train = data.loc[train_idx, 'Activity']\n",
    "\n",
    "X_test  = data.loc[test_idx, feature_cols]\n",
    "y_test  = data.loc[test_idx, 'Activity']"
   ]
  },
  {
   "cell_type": "code",
   "execution_count": 15,
   "metadata": {},
   "outputs": [
    {
     "data": {
      "text/plain": [
       "0    0.188792\n",
       "2    0.185046\n",
       "1    0.172562\n",
       "3    0.167152\n",
       "5    0.149951\n",
       "4    0.136496\n",
       "Name: Activity, dtype: float64"
      ]
     },
     "execution_count": 15,
     "metadata": {},
     "output_type": "execute_result"
    }
   ],
   "source": [
    "y_train.value_counts(normalize=True) #normalize=True returns the relative frequency...\n",
    "                                     #...by dividing all values by the sum of values."
   ]
  },
  {
   "cell_type": "code",
   "execution_count": 16,
   "metadata": {},
   "outputs": [
    {
     "data": {
      "text/plain": [
       "0    0.188673\n",
       "2    0.185113\n",
       "1    0.172492\n",
       "3    0.167314\n",
       "5    0.149838\n",
       "4    0.136570\n",
       "Name: Activity, dtype: float64"
      ]
     },
     "execution_count": 16,
     "metadata": {},
     "output_type": "execute_result"
    }
   ],
   "source": [
    "y_test.value_counts(normalize=True)"
   ]
  },
  {
   "cell_type": "markdown",
   "metadata": {},
   "source": [
    "## Question 4\n",
    "\n",
    "* Fit a logistic regression model without any regularization using all of the features. Be sure to read the documentation about fitting a multi-class model so you understand the coefficient output. Store the model.\n",
    "* Using cross validation to determine the hyperparameters, fit models using L1, and L2 regularization. Store each of these models as well. Note the limitations on multi-class models, solvers, and regularizations. The regularized models, in particular the L1 model, will probably take a while to fit."
   ]
  },
  {
   "cell_type": "code",
   "execution_count": 40,
   "metadata": {},
   "outputs": [],
   "source": [
    "from sklearn.linear_model import LogisticRegression\n",
    "\n",
    "# Standard logistic regression\n",
    "lr = LogisticRegression().fit(X_train, y_train)"
   ]
  },
  {
   "cell_type": "code",
   "execution_count": 41,
   "metadata": {},
   "outputs": [],
   "source": [
    "from sklearn.linear_model import LogisticRegressionCV\n",
    "\n",
    "# L1 regularized logistic regression (Lasso Regression)\n",
    "lr_l1 = LogisticRegressionCV(Cs=10, cv=4, penalty='l1', solver='liblinear').fit(X_train, y_train)\n",
    "\n",
    "#cv means Cross Validation. The default cross-validation generator used is Stratified K-Folds...\n",
    "#...and if a integer is provided then it is the number of folds used.\n",
    "\n",
    "#Cs describes the inverse of regularization strength ¿? i think that in general we put 10 in that argument.\n",
    "\n",
    "#\"solver\" corresponds to the Algorithm to use in the optimization problem."
   ]
  },
  {
   "cell_type": "markdown",
   "metadata": {},
   "source": [
    "- For small datasets, ‘liblinear’ is a good choice, whereas ‘sag’ and ‘saga’ are faster for large ones.\n",
    "\n",
    "- For multiclass problems, only ‘newton-cg’, ‘sag’, ‘saga’ and ‘lbfgs’ handle multinomial loss; ‘liblinear’ is limited to one-versus-rest schemes.\n",
    "\n",
    "- ‘newton-cg’, ‘lbfgs’ and ‘sag’ only handle L2 penalty, whereas ‘liblinear’ and ‘saga’ handle L1 penalty.\n",
    "\n",
    "- ‘liblinear’ might be slower in LogisticRegressionCV because it does not handle warm-starting."
   ]
  },
  {
   "cell_type": "code",
   "execution_count": 19,
   "metadata": {},
   "outputs": [],
   "source": [
    "#Try with different solvers like ‘newton-cg’, ‘lbfgs’, ‘sag’, ‘saga’ and give your observations"
   ]
  },
  {
   "cell_type": "code",
   "execution_count": 42,
   "metadata": {},
   "outputs": [],
   "source": [
    "# L2 regularized logistic regression\n",
    "lr_l2 = LogisticRegressionCV(Cs=10, cv=4, penalty='l2').fit(X_train, y_train)"
   ]
  },
  {
   "cell_type": "markdown",
   "metadata": {},
   "source": [
    "## Question 5\n",
    "\n",
    "Compare the magnitudes of the coefficients for each of the models. If one-vs-rest fitting was used, each set of coefficients can be plotted separately. "
   ]
  },
  {
   "cell_type": "code",
   "execution_count": 43,
   "metadata": {},
   "outputs": [
    {
     "name": "stdout",
     "output_type": "stream",
     "text": [
      "[[-0.08750646  0.01449275  0.03018717 ...  1.59910474 -0.3743129\n",
      "  -0.18830925]\n",
      " [-0.44522581 -0.20104645  0.06319641 ... -2.47309439 -0.74039705\n",
      "  -0.29802241]\n",
      " [ 0.25796346  0.06089227  0.24590906 ... -0.85461223  1.77145493\n",
      "   0.41692017]\n",
      " [-0.16928288 -0.02350929  0.02233922 ... -0.31314318 -0.24290376\n",
      "   0.06504728]\n",
      " [ 0.76561118  0.10796667  0.05897992 ... -0.71269426 -0.27513875\n",
      "  -0.04236276]\n",
      " [-0.0800838  -0.24719315 -0.40252628 ...  0.41631131  0.87672804\n",
      "   0.43881544]]\n"
     ]
    }
   ],
   "source": [
    "print(lr.coef_)"
   ]
  },
  {
   "cell_type": "code",
   "execution_count": 44,
   "metadata": {},
   "outputs": [
    {
     "data": {
      "text/html": [
       "<div>\n",
       "<style scoped>\n",
       "    .dataframe tbody tr th:only-of-type {\n",
       "        vertical-align: middle;\n",
       "    }\n",
       "\n",
       "    .dataframe tbody tr th {\n",
       "        vertical-align: top;\n",
       "    }\n",
       "\n",
       "    .dataframe thead tr th {\n",
       "        text-align: left;\n",
       "    }\n",
       "</style>\n",
       "<table border=\"1\" class=\"dataframe\">\n",
       "  <thead>\n",
       "    <tr>\n",
       "      <th></th>\n",
       "      <th colspan=\"6\" halign=\"left\">lr</th>\n",
       "      <th colspan=\"6\" halign=\"left\">l1</th>\n",
       "      <th colspan=\"6\" halign=\"left\">l2</th>\n",
       "    </tr>\n",
       "    <tr>\n",
       "      <th></th>\n",
       "      <th>0</th>\n",
       "      <th>1</th>\n",
       "      <th>2</th>\n",
       "      <th>3</th>\n",
       "      <th>4</th>\n",
       "      <th>5</th>\n",
       "      <th>0</th>\n",
       "      <th>1</th>\n",
       "      <th>2</th>\n",
       "      <th>3</th>\n",
       "      <th>4</th>\n",
       "      <th>5</th>\n",
       "      <th>0</th>\n",
       "      <th>1</th>\n",
       "      <th>2</th>\n",
       "      <th>3</th>\n",
       "      <th>4</th>\n",
       "      <th>5</th>\n",
       "    </tr>\n",
       "  </thead>\n",
       "  <tbody>\n",
       "    <tr>\n",
       "      <th>556</th>\n",
       "      <td>-0.022132</td>\n",
       "      <td>-0.659468</td>\n",
       "      <td>0.550630</td>\n",
       "      <td>-0.234916</td>\n",
       "      <td>0.385178</td>\n",
       "      <td>-0.351492</td>\n",
       "      <td>0.000000</td>\n",
       "      <td>-0.763921</td>\n",
       "      <td>0.488617</td>\n",
       "      <td>-0.511523</td>\n",
       "      <td>0.493552</td>\n",
       "      <td>-0.703145</td>\n",
       "      <td>-0.145509</td>\n",
       "      <td>-0.734650</td>\n",
       "      <td>0.597657</td>\n",
       "      <td>-0.448324</td>\n",
       "      <td>0.864295</td>\n",
       "      <td>-1.269380</td>\n",
       "    </tr>\n",
       "    <tr>\n",
       "      <th>557</th>\n",
       "      <td>0.058454</td>\n",
       "      <td>-0.246969</td>\n",
       "      <td>0.268995</td>\n",
       "      <td>-0.162010</td>\n",
       "      <td>-0.157604</td>\n",
       "      <td>0.174153</td>\n",
       "      <td>0.000000</td>\n",
       "      <td>-0.669233</td>\n",
       "      <td>0.866298</td>\n",
       "      <td>-0.358334</td>\n",
       "      <td>-0.030378</td>\n",
       "      <td>0.365405</td>\n",
       "      <td>0.184378</td>\n",
       "      <td>-0.387315</td>\n",
       "      <td>0.469455</td>\n",
       "      <td>-0.333772</td>\n",
       "      <td>-0.106509</td>\n",
       "      <td>0.914725</td>\n",
       "    </tr>\n",
       "    <tr>\n",
       "      <th>558</th>\n",
       "      <td>1.599105</td>\n",
       "      <td>-2.473094</td>\n",
       "      <td>-0.854612</td>\n",
       "      <td>-0.313143</td>\n",
       "      <td>-0.712694</td>\n",
       "      <td>0.416311</td>\n",
       "      <td>3.316079</td>\n",
       "      <td>-7.757670</td>\n",
       "      <td>0.000000</td>\n",
       "      <td>-0.254246</td>\n",
       "      <td>-0.957933</td>\n",
       "      <td>0.015864</td>\n",
       "      <td>3.899339</td>\n",
       "      <td>-3.800205</td>\n",
       "      <td>-1.007581</td>\n",
       "      <td>-0.675031</td>\n",
       "      <td>-2.167342</td>\n",
       "      <td>2.263081</td>\n",
       "    </tr>\n",
       "    <tr>\n",
       "      <th>559</th>\n",
       "      <td>-0.374313</td>\n",
       "      <td>-0.740397</td>\n",
       "      <td>1.771455</td>\n",
       "      <td>-0.242904</td>\n",
       "      <td>-0.275139</td>\n",
       "      <td>0.876728</td>\n",
       "      <td>0.000000</td>\n",
       "      <td>0.000000</td>\n",
       "      <td>0.000000</td>\n",
       "      <td>0.000000</td>\n",
       "      <td>0.000000</td>\n",
       "      <td>1.715833</td>\n",
       "      <td>-0.734428</td>\n",
       "      <td>-0.449390</td>\n",
       "      <td>2.247218</td>\n",
       "      <td>-0.628534</td>\n",
       "      <td>-1.099272</td>\n",
       "      <td>5.099186</td>\n",
       "    </tr>\n",
       "    <tr>\n",
       "      <th>560</th>\n",
       "      <td>-0.188309</td>\n",
       "      <td>-0.298022</td>\n",
       "      <td>0.416920</td>\n",
       "      <td>0.065047</td>\n",
       "      <td>-0.042363</td>\n",
       "      <td>0.438815</td>\n",
       "      <td>0.000000</td>\n",
       "      <td>0.000000</td>\n",
       "      <td>0.000000</td>\n",
       "      <td>0.000000</td>\n",
       "      <td>0.000000</td>\n",
       "      <td>2.475219</td>\n",
       "      <td>-0.449703</td>\n",
       "      <td>-0.272424</td>\n",
       "      <td>0.585252</td>\n",
       "      <td>0.112650</td>\n",
       "      <td>-0.199248</td>\n",
       "      <td>2.854804</td>\n",
       "    </tr>\n",
       "  </tbody>\n",
       "</table>\n",
       "</div>"
      ],
      "text/plain": [
       "           lr                                                          l1  \\\n",
       "            0         1         2         3         4         5         0   \n",
       "556 -0.022132 -0.659468  0.550630 -0.234916  0.385178 -0.351492  0.000000   \n",
       "557  0.058454 -0.246969  0.268995 -0.162010 -0.157604  0.174153  0.000000   \n",
       "558  1.599105 -2.473094 -0.854612 -0.313143 -0.712694  0.416311  3.316079   \n",
       "559 -0.374313 -0.740397  1.771455 -0.242904 -0.275139  0.876728  0.000000   \n",
       "560 -0.188309 -0.298022  0.416920  0.065047 -0.042363  0.438815  0.000000   \n",
       "\n",
       "                                                             l2            \\\n",
       "            1         2         3         4         5         0         1   \n",
       "556 -0.763921  0.488617 -0.511523  0.493552 -0.703145 -0.145509 -0.734650   \n",
       "557 -0.669233  0.866298 -0.358334 -0.030378  0.365405  0.184378 -0.387315   \n",
       "558 -7.757670  0.000000 -0.254246 -0.957933  0.015864  3.899339 -3.800205   \n",
       "559  0.000000  0.000000  0.000000  0.000000  1.715833 -0.734428 -0.449390   \n",
       "560  0.000000  0.000000  0.000000  0.000000  2.475219 -0.449703 -0.272424   \n",
       "\n",
       "                                             \n",
       "            2         3         4         5  \n",
       "556  0.597657 -0.448324  0.864295 -1.269380  \n",
       "557  0.469455 -0.333772 -0.106509  0.914725  \n",
       "558 -1.007581 -0.675031 -2.167342  2.263081  \n",
       "559  2.247218 -0.628534 -1.099272  5.099186  \n",
       "560  0.585252  0.112650 -0.199248  2.854804  "
      ]
     },
     "execution_count": 44,
     "metadata": {},
     "output_type": "execute_result"
    }
   ],
   "source": [
    "# Combine all the coefficients into a dataframe\n",
    "coefficients = list()\n",
    "\n",
    "coeff_labels = ['lr', 'l1', 'l2']\n",
    "coeff_models = [lr, lr_l1, lr_l2]\n",
    "\n",
    "for lab, mod in zip(coeff_labels, coeff_models):\n",
    "    coeffs = mod.coef_\n",
    "    coeff_label = pd.MultiIndex(levels=[[lab], [0,1,2,3,4,5]], \n",
    "                                 labels=[[0,0,0,0,0,0], [0,1,2,3,4,5]])\n",
    "    coefficients.append(pd.DataFrame(coeffs.T, columns=coeff_label))\n",
    "\n",
    "coefficients = pd.concat(coefficients, axis=1)\n",
    "\n",
    "coefficients.tail()"
   ]
  },
  {
   "cell_type": "markdown",
   "metadata": {},
   "source": [
    "## Explanation about the previous thing\n",
    "\n",
    "Until now, we are using Logistic Regression Multinomial (if you haven't noticed), that's because we are trying to predict 6 classes. So, with that said, the algorithm that we use is trying to find out the 560 coefficients for each class. In other words, the algorithm is preparing 6 models of Logistic Regression and calculates de 560 coefficients for each model.\n",
    "In the previous frame we can see 3 principal columns that corresponds to the three differen types of Logistic Regression models we are comparing, and in each of those columns we have other 6 columns that corresponds to each model that we are trying to solve (so the column 0 is the class 0 and in that column the model has 560 coefficients, in the column 1 is the class 1 and in that column we have 560 coefficients for his model, and so on).\n",
    "\n",
    "Knowing that, we can say that for each model we predict a probability between 0 to 1, so the class that has more probability is the class that we predict according to the features provided."
   ]
  },
  {
   "cell_type": "markdown",
   "metadata": {},
   "source": [
    "Prepare six separate plots for each of the multi-class coefficients."
   ]
  },
  {
   "cell_type": "code",
   "execution_count": 45,
   "metadata": {},
   "outputs": [
    {
     "data": {
      "image/png": "[encoded data removed]",
      "text/plain": [
       "<Figure size 720x720 with 6 Axes>"
      ]
     },
     "metadata": {},
     "output_type": "display_data"
    }
   ],
   "source": [
    "fig, axList = plt.subplots(nrows=3, ncols=2)\n",
    "axList = axList.flatten()\n",
    "fig.set_size_inches(10,10)\n",
    "\n",
    "\n",
    "for ax in enumerate(axList):\n",
    "    loc = ax[0]\n",
    "    ax = ax[1]\n",
    "    \n",
    "    data = coefficients.xs(loc, level=1, axis=1)\n",
    "    data.plot(marker='o', ls='', ms=2.0, ax=ax, legend=False)\n",
    "    \n",
    "    if ax is axList[0]:\n",
    "        ax.legend(loc=4)\n",
    "        \n",
    "    ax.set(title='Coefficient Set '+str(loc))\n",
    "\n",
    "plt.tight_layout()\n"
   ]
  },
  {
   "cell_type": "markdown",
   "metadata": {},
   "source": [
    "## Question 6\n",
    "\n",
    "* Predict and store the class for each model.\n",
    "* Also store the probability for the predicted class for each model. "
   ]
  },
  {
   "cell_type": "code",
   "execution_count": 46,
   "metadata": {},
   "outputs": [
    {
     "data": {
      "text/html": [
       "<div>\n",
       "<style scoped>\n",
       "    .dataframe tbody tr th:only-of-type {\n",
       "        vertical-align: middle;\n",
       "    }\n",
       "\n",
       "    .dataframe tbody tr th {\n",
       "        vertical-align: top;\n",
       "    }\n",
       "\n",
       "    .dataframe thead th {\n",
       "        text-align: right;\n",
       "    }\n",
       "</style>\n",
       "<table border=\"1\" class=\"dataframe\">\n",
       "  <thead>\n",
       "    <tr style=\"text-align: right;\">\n",
       "      <th></th>\n",
       "      <th>lr</th>\n",
       "      <th>l1</th>\n",
       "      <th>l2</th>\n",
       "    </tr>\n",
       "  </thead>\n",
       "  <tbody>\n",
       "    <tr>\n",
       "      <th>0</th>\n",
       "      <td>3</td>\n",
       "      <td>3</td>\n",
       "      <td>3</td>\n",
       "    </tr>\n",
       "    <tr>\n",
       "      <th>1</th>\n",
       "      <td>5</td>\n",
       "      <td>5</td>\n",
       "      <td>5</td>\n",
       "    </tr>\n",
       "    <tr>\n",
       "      <th>2</th>\n",
       "      <td>3</td>\n",
       "      <td>3</td>\n",
       "      <td>3</td>\n",
       "    </tr>\n",
       "    <tr>\n",
       "      <th>3</th>\n",
       "      <td>1</td>\n",
       "      <td>1</td>\n",
       "      <td>1</td>\n",
       "    </tr>\n",
       "    <tr>\n",
       "      <th>4</th>\n",
       "      <td>0</td>\n",
       "      <td>0</td>\n",
       "      <td>0</td>\n",
       "    </tr>\n",
       "  </tbody>\n",
       "</table>\n",
       "</div>"
      ],
      "text/plain": [
       "   lr  l1  l2\n",
       "0   3   3   3\n",
       "1   5   5   5\n",
       "2   3   3   3\n",
       "3   1   1   1\n",
       "4   0   0   0"
      ]
     },
     "execution_count": 46,
     "metadata": {},
     "output_type": "execute_result"
    }
   ],
   "source": [
    "# Predict the class and the probability for each\n",
    "\n",
    "y_pred = list()\n",
    "y_prob = list()\n",
    "\n",
    "coeff_labels = ['lr', 'l1', 'l2']\n",
    "coeff_models = [lr, lr_l1, lr_l2]\n",
    "\n",
    "for lab,mod in zip(coeff_labels, coeff_models):\n",
    "    y_pred.append(pd.Series(mod.predict(X_test), name=lab))\n",
    "    y_prob.append(pd.Series(mod.predict_proba(X_test).max(axis=1), name=lab))\n",
    "    \n",
    "y_pred = pd.concat(y_pred, axis=1)\n",
    "y_prob = pd.concat(y_prob, axis=1)\n",
    "\n",
    "y_pred.head()\n"
   ]
  },
  {
   "cell_type": "code",
   "execution_count": 47,
   "metadata": {},
   "outputs": [
    {
     "data": {
      "text/html": [
       "<div>\n",
       "<style scoped>\n",
       "    .dataframe tbody tr th:only-of-type {\n",
       "        vertical-align: middle;\n",
       "    }\n",
       "\n",
       "    .dataframe tbody tr th {\n",
       "        vertical-align: top;\n",
       "    }\n",
       "\n",
       "    .dataframe thead th {\n",
       "        text-align: right;\n",
       "    }\n",
       "</style>\n",
       "<table border=\"1\" class=\"dataframe\">\n",
       "  <thead>\n",
       "    <tr style=\"text-align: right;\">\n",
       "      <th></th>\n",
       "      <th>lr</th>\n",
       "      <th>l1</th>\n",
       "      <th>l2</th>\n",
       "    </tr>\n",
       "  </thead>\n",
       "  <tbody>\n",
       "    <tr>\n",
       "      <th>0</th>\n",
       "      <td>0.998939</td>\n",
       "      <td>0.998839</td>\n",
       "      <td>0.999807</td>\n",
       "    </tr>\n",
       "    <tr>\n",
       "      <th>1</th>\n",
       "      <td>0.988165</td>\n",
       "      <td>0.999587</td>\n",
       "      <td>0.999966</td>\n",
       "    </tr>\n",
       "    <tr>\n",
       "      <th>2</th>\n",
       "      <td>0.987592</td>\n",
       "      <td>0.995542</td>\n",
       "      <td>0.998519</td>\n",
       "    </tr>\n",
       "    <tr>\n",
       "      <th>3</th>\n",
       "      <td>0.981381</td>\n",
       "      <td>0.999182</td>\n",
       "      <td>0.994361</td>\n",
       "    </tr>\n",
       "    <tr>\n",
       "      <th>4</th>\n",
       "      <td>0.998277</td>\n",
       "      <td>0.999920</td>\n",
       "      <td>0.999629</td>\n",
       "    </tr>\n",
       "  </tbody>\n",
       "</table>\n",
       "</div>"
      ],
      "text/plain": [
       "         lr        l1        l2\n",
       "0  0.998939  0.998839  0.999807\n",
       "1  0.988165  0.999587  0.999966\n",
       "2  0.987592  0.995542  0.998519\n",
       "3  0.981381  0.999182  0.994361\n",
       "4  0.998277  0.999920  0.999629"
      ]
     },
     "execution_count": 47,
     "metadata": {},
     "output_type": "execute_result"
    }
   ],
   "source": [
    "y_prob.head()"
   ]
  },
  {
   "cell_type": "markdown",
   "metadata": {},
   "source": [
    "## Question 7\n",
    "\n",
    "For each model, calculate the following error metrics: \n",
    "\n",
    "* accuracy\n",
    "* precision\n",
    "* recall\n",
    "* fscore\n",
    "* confusion matrix\n",
    "\n",
    "Decide how to combine the multi-class metrics into a single value for each model."
   ]
  },
  {
   "cell_type": "code",
   "execution_count": 48,
   "metadata": {},
   "outputs": [],
   "source": [
    "from sklearn.metrics import precision_recall_fscore_support as score\n",
    "from sklearn.metrics import confusion_matrix, accuracy_score, roc_auc_score\n",
    "from sklearn.preprocessing import label_binarize\n",
    "\n",
    "metrics = list()\n",
    "cm = dict()\n",
    "\n",
    "for lab in coeff_labels:\n",
    "\n",
    "    # Preciision, recall, f-score from the multi-class support function\n",
    "    precision, recall, fscore, _ = score(y_test, y_pred[lab], average='weighted')\n",
    "    \n",
    "    # The usual way to calculate accuracy\n",
    "    accuracy = accuracy_score(y_test, y_pred[lab])\n",
    "    \n",
    "    # ROC-AUC scores can be calculated by binarizing the data\n",
    "    auc = roc_auc_score(label_binarize(y_test, classes=[0,1,2,3,4,5]),\n",
    "              label_binarize(y_pred[lab], classes=[0,1,2,3,4,5]), \n",
    "              average='weighted')\n",
    "    \n",
    "    # Last, the confusion matrix\n",
    "    cm[lab] = confusion_matrix(y_test, y_pred[lab])\n",
    "    \n",
    "    metrics.append(pd.Series({'precision':precision, 'recall':recall, \n",
    "                              'fscore':fscore, 'accuracy':accuracy,\n",
    "                              'auc':auc}, \n",
    "                             name=lab))\n",
    "\n",
    "metrics = pd.concat(metrics, axis=1)\n"
   ]
  },
  {
   "cell_type": "code",
   "execution_count": 49,
   "metadata": {},
   "outputs": [
    {
     "data": {
      "text/html": [
       "<div>\n",
       "<style scoped>\n",
       "    .dataframe tbody tr th:only-of-type {\n",
       "        vertical-align: middle;\n",
       "    }\n",
       "\n",
       "    .dataframe tbody tr th {\n",
       "        vertical-align: top;\n",
       "    }\n",
       "\n",
       "    .dataframe thead th {\n",
       "        text-align: right;\n",
       "    }\n",
       "</style>\n",
       "<table border=\"1\" class=\"dataframe\">\n",
       "  <thead>\n",
       "    <tr style=\"text-align: right;\">\n",
       "      <th></th>\n",
       "      <th>lr</th>\n",
       "      <th>l1</th>\n",
       "      <th>l2</th>\n",
       "    </tr>\n",
       "  </thead>\n",
       "  <tbody>\n",
       "    <tr>\n",
       "      <th>accuracy</th>\n",
       "      <td>0.984142</td>\n",
       "      <td>0.983819</td>\n",
       "      <td>0.983819</td>\n",
       "    </tr>\n",
       "    <tr>\n",
       "      <th>auc</th>\n",
       "      <td>0.990384</td>\n",
       "      <td>0.990144</td>\n",
       "      <td>0.990170</td>\n",
       "    </tr>\n",
       "    <tr>\n",
       "      <th>fscore</th>\n",
       "      <td>0.984143</td>\n",
       "      <td>0.983815</td>\n",
       "      <td>0.983818</td>\n",
       "    </tr>\n",
       "    <tr>\n",
       "      <th>precision</th>\n",
       "      <td>0.984144</td>\n",
       "      <td>0.983835</td>\n",
       "      <td>0.983821</td>\n",
       "    </tr>\n",
       "    <tr>\n",
       "      <th>recall</th>\n",
       "      <td>0.984142</td>\n",
       "      <td>0.983819</td>\n",
       "      <td>0.983819</td>\n",
       "    </tr>\n",
       "  </tbody>\n",
       "</table>\n",
       "</div>"
      ],
      "text/plain": [
       "                 lr        l1        l2\n",
       "accuracy   0.984142  0.983819  0.983819\n",
       "auc        0.990384  0.990144  0.990170\n",
       "fscore     0.984143  0.983815  0.983818\n",
       "precision  0.984144  0.983835  0.983821\n",
       "recall     0.984142  0.983819  0.983819"
      ]
     },
     "execution_count": 49,
     "metadata": {},
     "output_type": "execute_result"
    }
   ],
   "source": [
    "#Run the metrics\n",
    "metrics"
   ]
  },
  {
   "cell_type": "markdown",
   "metadata": {},
   "source": [
    "## Question 8\n",
    "\n",
    "Display or plot the confusion matrix for each model."
   ]
  },
  {
   "cell_type": "code",
   "execution_count": 50,
   "metadata": {},
   "outputs": [
    {
     "data": {
      "image/png": "[encoded data removed]",
      "text/plain": [
       "<Figure size 864x720 with 7 Axes>"
      ]
     },
     "metadata": {},
     "output_type": "display_data"
    }
   ],
   "source": [
    "fig, axList = plt.subplots(nrows=2, ncols=2)\n",
    "axList = axList.flatten()\n",
    "fig.set_size_inches(12, 10)\n",
    "\n",
    "axList[-1].axis('off')\n",
    "\n",
    "for ax,lab in zip(axList[:-1], coeff_labels):\n",
    "    sns.heatmap(cm[lab], ax=ax, annot=True, fmt='d');\n",
    "    ax.set(title=lab);\n",
    "    \n",
    "plt.tight_layout()\n"
   ]
  },
  {
   "cell_type": "markdown",
   "metadata": {
    "collapsed": true
   },
   "source": [
    "## Question 9\n",
    " Identify highly correlated columns and drop those columns before building models"
   ]
  },
  {
   "cell_type": "code",
   "execution_count": 51,
   "metadata": {},
   "outputs": [],
   "source": [
    "from sklearn.feature_selection import SelectKBest\n",
    "from sklearn.feature_selection import chi2\n",
    "from sklearn.feature_selection import VarianceThreshold\n",
    "\n",
    "#threshold with .7\n",
    "\n",
    "sel = VarianceThreshold(threshold=(.7 * (1 - .7)))\n",
    "\n",
    "data2 = pd.concat([X_train,X_test])\n",
    "data_new = pd.DataFrame(sel.fit_transform(data2))\n",
    "\n",
    "\n",
    "data_y = pd.concat([y_train,y_test])\n",
    "\n",
    "from sklearn.model_selection import train_test_split\n",
    "\n",
    "X_new,X_test_new = train_test_split(data_new)\n",
    "Y_new,Y_test_new = train_test_split(data_y)"
   ]
  },
  {
   "cell_type": "markdown",
   "metadata": {},
   "source": [
    " Repeat Model building with new training data after removing higly correlated columns"
   ]
  },
  {
   "cell_type": "code",
   "execution_count": 58,
   "metadata": {},
   "outputs": [],
   "source": [
    "# Try standard, L1 and L2 Logistic regression\n",
    "# Standard logistic regression\n",
    "lr_new = LogisticRegression().fit(X_new, Y_new)"
   ]
  },
  {
   "cell_type": "code",
   "execution_count": 59,
   "metadata": {},
   "outputs": [],
   "source": [
    "# L1 regularized logistic regression (Lasso Regression)\n",
    "lr_l1_new = LogisticRegressionCV(Cs=10, cv=4, penalty='l1', solver='liblinear').fit(X_new, Y_new)"
   ]
  },
  {
   "cell_type": "code",
   "execution_count": 60,
   "metadata": {},
   "outputs": [],
   "source": [
    "# L2 regularized logistic regression\n",
    "lr_l2_new = LogisticRegressionCV(Cs=10, cv=4, penalty='l2').fit(X_new, Y_new)"
   ]
  },
  {
   "cell_type": "code",
   "execution_count": 61,
   "metadata": {},
   "outputs": [],
   "source": [
    "#Try with different solvers like ‘newton-cg’, ‘lbfgs’, ‘sag’, ‘saga’ and give your observations"
   ]
  },
  {
   "cell_type": "markdown",
   "metadata": {},
   "source": [
    "## Question 10\n",
    "\n",
    "Compare the magnitudes of the coefficients for each of the models. If one-vs-rest fitting was used, each set of coefficients can be plotted separately. "
   ]
  },
  {
   "cell_type": "code",
   "execution_count": 62,
   "metadata": {},
   "outputs": [
    {
     "data": {
      "text/html": [
       "<div>\n",
       "<style scoped>\n",
       "    .dataframe tbody tr th:only-of-type {\n",
       "        vertical-align: middle;\n",
       "    }\n",
       "\n",
       "    .dataframe tbody tr th {\n",
       "        vertical-align: top;\n",
       "    }\n",
       "\n",
       "    .dataframe thead tr th {\n",
       "        text-align: left;\n",
       "    }\n",
       "</style>\n",
       "<table border=\"1\" class=\"dataframe\">\n",
       "  <thead>\n",
       "    <tr>\n",
       "      <th></th>\n",
       "      <th colspan=\"6\" halign=\"left\">lr_new</th>\n",
       "      <th colspan=\"6\" halign=\"left\">l1_new</th>\n",
       "      <th colspan=\"6\" halign=\"left\">l2_new</th>\n",
       "    </tr>\n",
       "    <tr>\n",
       "      <th></th>\n",
       "      <th>0</th>\n",
       "      <th>1</th>\n",
       "      <th>2</th>\n",
       "      <th>3</th>\n",
       "      <th>4</th>\n",
       "      <th>5</th>\n",
       "      <th>0</th>\n",
       "      <th>1</th>\n",
       "      <th>2</th>\n",
       "      <th>3</th>\n",
       "      <th>4</th>\n",
       "      <th>5</th>\n",
       "      <th>0</th>\n",
       "      <th>1</th>\n",
       "      <th>2</th>\n",
       "      <th>3</th>\n",
       "      <th>4</th>\n",
       "      <th>5</th>\n",
       "    </tr>\n",
       "  </thead>\n",
       "  <tbody>\n",
       "    <tr>\n",
       "      <th>45</th>\n",
       "      <td>0.103147</td>\n",
       "      <td>0.158095</td>\n",
       "      <td>-0.063232</td>\n",
       "      <td>-0.674274</td>\n",
       "      <td>-0.196960</td>\n",
       "      <td>0.543354</td>\n",
       "      <td>0.0</td>\n",
       "      <td>0.0</td>\n",
       "      <td>0.0</td>\n",
       "      <td>0.0</td>\n",
       "      <td>0.0</td>\n",
       "      <td>0.0</td>\n",
       "      <td>-0.000557</td>\n",
       "      <td>-0.001179</td>\n",
       "      <td>0.000442</td>\n",
       "      <td>0.000961</td>\n",
       "      <td>0.001100</td>\n",
       "      <td>-0.000625</td>\n",
       "    </tr>\n",
       "    <tr>\n",
       "      <th>46</th>\n",
       "      <td>0.014821</td>\n",
       "      <td>-0.905679</td>\n",
       "      <td>0.390972</td>\n",
       "      <td>0.322661</td>\n",
       "      <td>0.339008</td>\n",
       "      <td>0.042903</td>\n",
       "      <td>0.0</td>\n",
       "      <td>0.0</td>\n",
       "      <td>0.0</td>\n",
       "      <td>0.0</td>\n",
       "      <td>0.0</td>\n",
       "      <td>0.0</td>\n",
       "      <td>-0.000635</td>\n",
       "      <td>-0.001786</td>\n",
       "      <td>0.000786</td>\n",
       "      <td>0.001212</td>\n",
       "      <td>0.001383</td>\n",
       "      <td>-0.000809</td>\n",
       "    </tr>\n",
       "    <tr>\n",
       "      <th>47</th>\n",
       "      <td>0.010802</td>\n",
       "      <td>0.076841</td>\n",
       "      <td>-0.044462</td>\n",
       "      <td>0.024544</td>\n",
       "      <td>-0.096935</td>\n",
       "      <td>0.019753</td>\n",
       "      <td>0.0</td>\n",
       "      <td>0.0</td>\n",
       "      <td>0.0</td>\n",
       "      <td>0.0</td>\n",
       "      <td>0.0</td>\n",
       "      <td>0.0</td>\n",
       "      <td>0.001055</td>\n",
       "      <td>0.003074</td>\n",
       "      <td>-0.002570</td>\n",
       "      <td>0.001295</td>\n",
       "      <td>-0.003593</td>\n",
       "      <td>0.000728</td>\n",
       "    </tr>\n",
       "    <tr>\n",
       "      <th>48</th>\n",
       "      <td>-0.047534</td>\n",
       "      <td>-0.009405</td>\n",
       "      <td>0.094806</td>\n",
       "      <td>-0.025030</td>\n",
       "      <td>0.034759</td>\n",
       "      <td>-0.045761</td>\n",
       "      <td>0.0</td>\n",
       "      <td>0.0</td>\n",
       "      <td>0.0</td>\n",
       "      <td>0.0</td>\n",
       "      <td>0.0</td>\n",
       "      <td>0.0</td>\n",
       "      <td>-0.001890</td>\n",
       "      <td>-0.000644</td>\n",
       "      <td>0.001981</td>\n",
       "      <td>0.000007</td>\n",
       "      <td>0.001030</td>\n",
       "      <td>-0.000483</td>\n",
       "    </tr>\n",
       "    <tr>\n",
       "      <th>49</th>\n",
       "      <td>0.848973</td>\n",
       "      <td>-0.418275</td>\n",
       "      <td>-0.330831</td>\n",
       "      <td>0.015485</td>\n",
       "      <td>-0.017401</td>\n",
       "      <td>-0.136057</td>\n",
       "      <td>0.0</td>\n",
       "      <td>0.0</td>\n",
       "      <td>0.0</td>\n",
       "      <td>0.0</td>\n",
       "      <td>0.0</td>\n",
       "      <td>0.0</td>\n",
       "      <td>0.001497</td>\n",
       "      <td>-0.001946</td>\n",
       "      <td>0.003626</td>\n",
       "      <td>-0.001003</td>\n",
       "      <td>-0.002471</td>\n",
       "      <td>0.000166</td>\n",
       "    </tr>\n",
       "  </tbody>\n",
       "</table>\n",
       "</div>"
      ],
      "text/plain": [
       "      lr_new                                                   l1_new       \\\n",
       "           0         1         2         3         4         5      0    1   \n",
       "45  0.103147  0.158095 -0.063232 -0.674274 -0.196960  0.543354    0.0  0.0   \n",
       "46  0.014821 -0.905679  0.390972  0.322661  0.339008  0.042903    0.0  0.0   \n",
       "47  0.010802  0.076841 -0.044462  0.024544 -0.096935  0.019753    0.0  0.0   \n",
       "48 -0.047534 -0.009405  0.094806 -0.025030  0.034759 -0.045761    0.0  0.0   \n",
       "49  0.848973 -0.418275 -0.330831  0.015485 -0.017401 -0.136057    0.0  0.0   \n",
       "\n",
       "                          l2_new                                          \\\n",
       "      2    3    4    5         0         1         2         3         4   \n",
       "45  0.0  0.0  0.0  0.0 -0.000557 -0.001179  0.000442  0.000961  0.001100   \n",
       "46  0.0  0.0  0.0  0.0 -0.000635 -0.001786  0.000786  0.001212  0.001383   \n",
       "47  0.0  0.0  0.0  0.0  0.001055  0.003074 -0.002570  0.001295 -0.003593   \n",
       "48  0.0  0.0  0.0  0.0 -0.001890 -0.000644  0.001981  0.000007  0.001030   \n",
       "49  0.0  0.0  0.0  0.0  0.001497 -0.001946  0.003626 -0.001003 -0.002471   \n",
       "\n",
       "              \n",
       "           5  \n",
       "45 -0.000625  \n",
       "46 -0.000809  \n",
       "47  0.000728  \n",
       "48 -0.000483  \n",
       "49  0.000166  "
      ]
     },
     "execution_count": 62,
     "metadata": {},
     "output_type": "execute_result"
    }
   ],
   "source": [
    "# Combine all the coefficients into a dataframe for comparison\n",
    "coefficients_new = list()\n",
    "\n",
    "coeff_labels_new = ['lr_new', 'l1_new', 'l2_new']\n",
    "coeff_models_new = [lr_new, lr_l1_new, lr_l2_new]\n",
    "\n",
    "for lab, mod in zip(coeff_labels_new, coeff_models_new):\n",
    "    coeffs_new = mod.coef_\n",
    "    coeff_label_new = pd.MultiIndex(levels=[[lab], [0,1,2,3,4,5]], \n",
    "                                 labels=[[0,0,0,0,0,0], [0,1,2,3,4,5]])\n",
    "    coefficients_new.append(pd.DataFrame(coeffs_new.T, columns=coeff_label_new))\n",
    "\n",
    "coefficients_new = pd.concat(coefficients_new, axis=1)\n",
    "\n",
    "coefficients_new.tail()"
   ]
  },
  {
   "cell_type": "markdown",
   "metadata": {},
   "source": [
    "Prepare six separate plots for each of the multi-class coefficients."
   ]
  },
  {
   "cell_type": "code",
   "execution_count": 63,
   "metadata": {},
   "outputs": [
    {
     "data": {
      "image/png": "[encoded data removed]",
      "text/plain": [
       "<Figure size 720x720 with 6 Axes>"
      ]
     },
     "metadata": {},
     "output_type": "display_data"
    }
   ],
   "source": [
    "# try the plots\n",
    "fig_new, axList_new = plt.subplots(nrows=3, ncols=2)\n",
    "axList_new = axList_new.flatten()\n",
    "fig_new.set_size_inches(10,10)\n",
    "\n",
    "\n",
    "for ax in enumerate(axList_new):\n",
    "    loc_new = ax[0]\n",
    "    ax = ax[1]\n",
    "    \n",
    "    data_new2 = coefficients_new.xs(loc_new, level=1, axis=1)\n",
    "    data_new2.plot(marker='o', ls='', ms=2.0, ax=ax, legend=False)\n",
    "    \n",
    "    if ax is axList_new[0]:\n",
    "        ax.legend(loc=4)\n",
    "        \n",
    "    ax.set(title='Coefficient Set '+str(loc))\n",
    "\n",
    "plt.tight_layout()"
   ]
  },
  {
   "cell_type": "markdown",
   "metadata": {},
   "source": [
    "## Question 11\n",
    "\n",
    "* Predict and store the class for each model.\n",
    "* Also store the probability for the predicted class for each model. "
   ]
  },
  {
   "cell_type": "code",
   "execution_count": 66,
   "metadata": {},
   "outputs": [
    {
     "data": {
      "text/html": [
       "<div>\n",
       "<style scoped>\n",
       "    .dataframe tbody tr th:only-of-type {\n",
       "        vertical-align: middle;\n",
       "    }\n",
       "\n",
       "    .dataframe tbody tr th {\n",
       "        vertical-align: top;\n",
       "    }\n",
       "\n",
       "    .dataframe thead th {\n",
       "        text-align: right;\n",
       "    }\n",
       "</style>\n",
       "<table border=\"1\" class=\"dataframe\">\n",
       "  <thead>\n",
       "    <tr style=\"text-align: right;\">\n",
       "      <th></th>\n",
       "      <th>lr_new</th>\n",
       "      <th>l1_new</th>\n",
       "      <th>l2_new</th>\n",
       "    </tr>\n",
       "  </thead>\n",
       "  <tbody>\n",
       "    <tr>\n",
       "      <th>0</th>\n",
       "      <td>2</td>\n",
       "      <td>0</td>\n",
       "      <td>2</td>\n",
       "    </tr>\n",
       "    <tr>\n",
       "      <th>1</th>\n",
       "      <td>0</td>\n",
       "      <td>0</td>\n",
       "      <td>2</td>\n",
       "    </tr>\n",
       "    <tr>\n",
       "      <th>2</th>\n",
       "      <td>1</td>\n",
       "      <td>0</td>\n",
       "      <td>2</td>\n",
       "    </tr>\n",
       "    <tr>\n",
       "      <th>3</th>\n",
       "      <td>2</td>\n",
       "      <td>0</td>\n",
       "      <td>2</td>\n",
       "    </tr>\n",
       "    <tr>\n",
       "      <th>4</th>\n",
       "      <td>3</td>\n",
       "      <td>0</td>\n",
       "      <td>0</td>\n",
       "    </tr>\n",
       "  </tbody>\n",
       "</table>\n",
       "</div>"
      ],
      "text/plain": [
       "   lr_new  l1_new  l2_new\n",
       "0       2       0       2\n",
       "1       0       0       2\n",
       "2       1       0       2\n",
       "3       2       0       2\n",
       "4       3       0       0"
      ]
     },
     "execution_count": 66,
     "metadata": {},
     "output_type": "execute_result"
    }
   ],
   "source": [
    "# Predict the class and the probability for each\n",
    "y_pred2 = list()\n",
    "y_prob2 = list()\n",
    "\n",
    "coeff_labels = ['lr_new', 'l1_new', 'l2_new']\n",
    "coeff_models = [lr_new, lr_l1_new, lr_l2_new]\n",
    "\n",
    "for lab,mod in zip(coeff_labels, coeff_models):\n",
    "    y_pred2.append(pd.Series(mod.predict(X_test_new), name=lab))\n",
    "    y_prob2.append(pd.Series(mod.predict_proba(X_test_new).max(axis=1), name=lab))\n",
    "    \n",
    "y_pred2 = pd.concat(y_pred2, axis=1)\n",
    "y_prob2 = pd.concat(y_prob2, axis=1)\n",
    "\n",
    "y_pred2.head()"
   ]
  },
  {
   "cell_type": "code",
   "execution_count": 67,
   "metadata": {},
   "outputs": [
    {
     "data": {
      "text/html": [
       "<div>\n",
       "<style scoped>\n",
       "    .dataframe tbody tr th:only-of-type {\n",
       "        vertical-align: middle;\n",
       "    }\n",
       "\n",
       "    .dataframe tbody tr th {\n",
       "        vertical-align: top;\n",
       "    }\n",
       "\n",
       "    .dataframe thead th {\n",
       "        text-align: right;\n",
       "    }\n",
       "</style>\n",
       "<table border=\"1\" class=\"dataframe\">\n",
       "  <thead>\n",
       "    <tr style=\"text-align: right;\">\n",
       "      <th></th>\n",
       "      <th>lr_new</th>\n",
       "      <th>l1_new</th>\n",
       "      <th>l2_new</th>\n",
       "    </tr>\n",
       "  </thead>\n",
       "  <tbody>\n",
       "    <tr>\n",
       "      <th>0</th>\n",
       "      <td>0.218948</td>\n",
       "      <td>0.166667</td>\n",
       "      <td>0.187843</td>\n",
       "    </tr>\n",
       "    <tr>\n",
       "      <th>1</th>\n",
       "      <td>0.205295</td>\n",
       "      <td>0.166667</td>\n",
       "      <td>0.186625</td>\n",
       "    </tr>\n",
       "    <tr>\n",
       "      <th>2</th>\n",
       "      <td>0.204851</td>\n",
       "      <td>0.166667</td>\n",
       "      <td>0.187192</td>\n",
       "    </tr>\n",
       "    <tr>\n",
       "      <th>3</th>\n",
       "      <td>0.249352</td>\n",
       "      <td>0.166667</td>\n",
       "      <td>0.188872</td>\n",
       "    </tr>\n",
       "    <tr>\n",
       "      <th>4</th>\n",
       "      <td>0.188048</td>\n",
       "      <td>0.166667</td>\n",
       "      <td>0.185828</td>\n",
       "    </tr>\n",
       "  </tbody>\n",
       "</table>\n",
       "</div>"
      ],
      "text/plain": [
       "     lr_new    l1_new    l2_new\n",
       "0  0.218948  0.166667  0.187843\n",
       "1  0.205295  0.166667  0.186625\n",
       "2  0.204851  0.166667  0.187192\n",
       "3  0.249352  0.166667  0.188872\n",
       "4  0.188048  0.166667  0.185828"
      ]
     },
     "execution_count": 67,
     "metadata": {},
     "output_type": "execute_result"
    }
   ],
   "source": [
    "y_prob2.head()"
   ]
  },
  {
   "cell_type": "markdown",
   "metadata": {},
   "source": [
    "## Question 12\n",
    "\n",
    "For each model, calculate the following error metrics: \n",
    "\n",
    "* accuracy\n",
    "* precision\n",
    "* recall\n",
    "* fscore\n",
    "* confusion matrix\n",
    "\n",
    "Decide how to combine the multi-class metrics into a single value for each model."
   ]
  },
  {
   "cell_type": "code",
   "execution_count": 68,
   "metadata": {},
   "outputs": [
    {
     "name": "stderr",
     "output_type": "stream",
     "text": [
      "/home/xavier/anaconda3/envs/idp/lib/python3.6/site-packages/sklearn/metrics/classification.py:1135: UndefinedMetricWarning: Precision and F-score are ill-defined and being set to 0.0 in labels with no predicted samples.\n",
      "  'precision', 'predicted', average, warn_for)\n"
     ]
    }
   ],
   "source": [
    "# Calculate the error metrics as listed above\n",
    "metrics2 = list()\n",
    "cm2 = dict()\n",
    "\n",
    "for lab in coeff_labels:\n",
    "\n",
    "    # Precision, recall, f-score from the multi-class support function\n",
    "    precision, recall, fscore, _ = score(Y_test_new, y_pred2[lab], average='weighted')\n",
    "    \n",
    "    # The usual way to calculate accuracy\n",
    "    accuracy = accuracy_score(Y_test_new, y_pred2[lab])\n",
    "    \n",
    "    # ROC-AUC scores can be calculated by binarizing the data\n",
    "    auc = roc_auc_score(label_binarize(Y_test_new, classes=[0,1,2,3,4,5]),\n",
    "              label_binarize(y_pred2[lab], classes=[0,1,2,3,4,5]), \n",
    "              average='weighted')\n",
    "    \n",
    "    # Last, the confusion matrix\n",
    "    cm2[lab] = confusion_matrix(Y_test_new, y_pred2[lab])\n",
    "    \n",
    "    metrics2.append(pd.Series({'precision':precision, 'recall':recall, \n",
    "                              'fscore':fscore, 'accuracy':accuracy,\n",
    "                              'auc':auc}, \n",
    "                             name=lab))\n",
    "\n",
    "metrics2 = pd.concat(metrics2, axis=1)\n"
   ]
  },
  {
   "cell_type": "code",
   "execution_count": 70,
   "metadata": {},
   "outputs": [
    {
     "data": {
      "text/html": [
       "<div>\n",
       "<style scoped>\n",
       "    .dataframe tbody tr th:only-of-type {\n",
       "        vertical-align: middle;\n",
       "    }\n",
       "\n",
       "    .dataframe tbody tr th {\n",
       "        vertical-align: top;\n",
       "    }\n",
       "\n",
       "    .dataframe thead th {\n",
       "        text-align: right;\n",
       "    }\n",
       "</style>\n",
       "<table border=\"1\" class=\"dataframe\">\n",
       "  <thead>\n",
       "    <tr style=\"text-align: right;\">\n",
       "      <th></th>\n",
       "      <th>lr_new</th>\n",
       "      <th>l1_new</th>\n",
       "      <th>l2_new</th>\n",
       "    </tr>\n",
       "  </thead>\n",
       "  <tbody>\n",
       "    <tr>\n",
       "      <th>accuracy</th>\n",
       "      <td>0.173592</td>\n",
       "      <td>0.201165</td>\n",
       "      <td>0.182524</td>\n",
       "    </tr>\n",
       "    <tr>\n",
       "      <th>auc</th>\n",
       "      <td>0.496299</td>\n",
       "      <td>0.500000</td>\n",
       "      <td>0.498438</td>\n",
       "    </tr>\n",
       "    <tr>\n",
       "      <th>fscore</th>\n",
       "      <td>0.150082</td>\n",
       "      <td>0.067380</td>\n",
       "      <td>0.095733</td>\n",
       "    </tr>\n",
       "    <tr>\n",
       "      <th>precision</th>\n",
       "      <td>0.148075</td>\n",
       "      <td>0.040467</td>\n",
       "      <td>0.069517</td>\n",
       "    </tr>\n",
       "    <tr>\n",
       "      <th>recall</th>\n",
       "      <td>0.173592</td>\n",
       "      <td>0.201165</td>\n",
       "      <td>0.182524</td>\n",
       "    </tr>\n",
       "  </tbody>\n",
       "</table>\n",
       "</div>"
      ],
      "text/plain": [
       "             lr_new    l1_new    l2_new\n",
       "accuracy   0.173592  0.201165  0.182524\n",
       "auc        0.496299  0.500000  0.498438\n",
       "fscore     0.150082  0.067380  0.095733\n",
       "precision  0.148075  0.040467  0.069517\n",
       "recall     0.173592  0.201165  0.182524"
      ]
     },
     "execution_count": 70,
     "metadata": {},
     "output_type": "execute_result"
    }
   ],
   "source": [
    "#Run the metrics\n",
    "metrics2"
   ]
  },
  {
   "cell_type": "markdown",
   "metadata": {},
   "source": [
    "## Question 13\n",
    "\n",
    "Display or plot the confusion matrix for each model."
   ]
  },
  {
   "cell_type": "code",
   "execution_count": 71,
   "metadata": {},
   "outputs": [
    {
     "data": {
      "image/png": "[encoded data removed]",
      "text/plain": [
       "<Figure size 864x720 with 7 Axes>"
      ]
     },
     "metadata": {},
     "output_type": "display_data"
    }
   ],
   "source": [
    "#plot the confusion matrix\n",
    "fig, axList = plt.subplots(nrows=2, ncols=2)\n",
    "axList = axList.flatten()\n",
    "fig.set_size_inches(12, 10)\n",
    "\n",
    "axList[-1].axis('off')\n",
    "\n",
    "for ax,lab in zip(axList[:-1], coeff_labels):\n",
    "    sns.heatmap(cm2[lab], ax=ax, annot=True, fmt='d');\n",
    "    ax.set(title=lab);\n",
    "    \n",
    "plt.tight_layout()\n"
   ]
  },
  {
   "cell_type": "markdown",
   "metadata": {
    "collapsed": true
   },
   "source": [
    "## Perform a comparison of the outputs between Question 7 and 12 and give your observation\n",
    "I don't know exactly why, but when we took of the features that were to correlated, the models were not so accurate."
   ]
  },
  {
   "cell_type": "code",
   "execution_count": null,
   "metadata": {
    "collapsed": true
   },
   "outputs": [],
   "source": [
    "# Perform a comparison of the outputs between Question 8 and 13 and give your observation"
   ]
  },
  {
   "cell_type": "code",
   "execution_count": null,
   "metadata": {
    "collapsed": true
   },
   "outputs": [],
   "source": []
  }
 ],
 "metadata": {
  "kernelspec": {
   "display_name": "Python 3",
   "language": "python",
   "name": "python3"
  },
  "language_info": {
   "codemirror_mode": {
    "name": "ipython",
    "version": 3
   },
   "file_extension": ".py",
   "mimetype": "text/x-python",
   "name": "python",
   "nbconvert_exporter": "python",
   "pygments_lexer": "ipython3",
   "version": "3.6.3"
  }
 },
 "nbformat": 4,
 "nbformat_minor": 2
}
