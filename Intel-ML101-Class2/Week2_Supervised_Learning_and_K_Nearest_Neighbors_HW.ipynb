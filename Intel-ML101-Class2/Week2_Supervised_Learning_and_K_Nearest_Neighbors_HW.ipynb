{
 "cells": [
  {
   "cell_type": "markdown",
   "metadata": {},
   "source": [
    "# Supervised Learning and K Nearest Neighbors Exercises"
   ]
  },
  {
   "cell_type": "markdown",
   "metadata": {},
   "source": [
    "## Introduction\n",
    "\n",
    "We will be using customer churn data from the telecom industry for this week's exercises. The data file is called \n",
    "`Orange_Telecom_Churn_Data.csv`. We will load this data together, do some preprocessing, and use K-nearest neighbors to predict customer churn based on account characteristics."
   ]
  },
  {
   "cell_type": "code",
   "execution_count": 2,
   "metadata": {
    "ExecuteTime": {
     "end_time": "2017-03-09T17:11:00.462641Z",
     "start_time": "2017-03-09T12:11:00.457060-05:00"
    }
   },
   "outputs": [],
   "source": [
    "from __future__ import print_function  #We import this to maintain Python actualized in the print function\n",
    "import os\n",
    "data_path = ['data']"
   ]
  },
  {
   "cell_type": "markdown",
   "metadata": {},
   "source": [
    "## Question 1\n",
    "\n",
    "* Begin by importing the data. Examine the columns and data.\n",
    "* Notice that the data contains a state, area code, and phone number. Do you think these are good features to use when building a machine learning model? Why or why not? \n",
    "\n",
    "We will not be using them, so they can be dropped from the data."
   ]
  },
  {
   "cell_type": "code",
   "execution_count": 3,
   "metadata": {
    "ExecuteTime": {
     "end_time": "2017-03-09T17:11:00.913456Z",
     "start_time": "2017-03-09T12:11:00.883452-05:00"
    }
   },
   "outputs": [],
   "source": [
    "import pandas as pd\n",
    "\n",
    "# Import the data using the file path\n",
    "filepath = os.sep.join(data_path + ['Orange_Telecom_Churn_Data.csv'])\n",
    "data = pd.read_csv(filepath)"
   ]
  },
  {
   "cell_type": "code",
   "execution_count": 4,
   "metadata": {
    "ExecuteTime": {
     "end_time": "2017-03-09T17:11:01.087485Z",
     "start_time": "2017-03-09T12:11:01.075442-05:00"
    }
   },
   "outputs": [
    {
     "data": {
      "text/html": [
       "<div>\n",
       "<style scoped>\n",
       "    .dataframe tbody tr th:only-of-type {\n",
       "        vertical-align: middle;\n",
       "    }\n",
       "\n",
       "    .dataframe tbody tr th {\n",
       "        vertical-align: top;\n",
       "    }\n",
       "\n",
       "    .dataframe thead th {\n",
       "        text-align: right;\n",
       "    }\n",
       "</style>\n",
       "<table border=\"1\" class=\"dataframe\">\n",
       "  <thead>\n",
       "    <tr style=\"text-align: right;\">\n",
       "      <th></th>\n",
       "      <th>0</th>\n",
       "    </tr>\n",
       "  </thead>\n",
       "  <tbody>\n",
       "    <tr>\n",
       "      <th>state</th>\n",
       "      <td>KS</td>\n",
       "    </tr>\n",
       "    <tr>\n",
       "      <th>account_length</th>\n",
       "      <td>128</td>\n",
       "    </tr>\n",
       "    <tr>\n",
       "      <th>area_code</th>\n",
       "      <td>415</td>\n",
       "    </tr>\n",
       "    <tr>\n",
       "      <th>phone_number</th>\n",
       "      <td>382-4657</td>\n",
       "    </tr>\n",
       "    <tr>\n",
       "      <th>intl_plan</th>\n",
       "      <td>no</td>\n",
       "    </tr>\n",
       "    <tr>\n",
       "      <th>voice_mail_plan</th>\n",
       "      <td>yes</td>\n",
       "    </tr>\n",
       "    <tr>\n",
       "      <th>number_vmail_messages</th>\n",
       "      <td>25</td>\n",
       "    </tr>\n",
       "    <tr>\n",
       "      <th>total_day_minutes</th>\n",
       "      <td>265.1</td>\n",
       "    </tr>\n",
       "    <tr>\n",
       "      <th>total_day_calls</th>\n",
       "      <td>110</td>\n",
       "    </tr>\n",
       "    <tr>\n",
       "      <th>total_day_charge</th>\n",
       "      <td>45.07</td>\n",
       "    </tr>\n",
       "    <tr>\n",
       "      <th>total_eve_minutes</th>\n",
       "      <td>197.4</td>\n",
       "    </tr>\n",
       "    <tr>\n",
       "      <th>total_eve_calls</th>\n",
       "      <td>99</td>\n",
       "    </tr>\n",
       "    <tr>\n",
       "      <th>total_eve_charge</th>\n",
       "      <td>16.78</td>\n",
       "    </tr>\n",
       "    <tr>\n",
       "      <th>total_night_minutes</th>\n",
       "      <td>244.7</td>\n",
       "    </tr>\n",
       "    <tr>\n",
       "      <th>total_night_calls</th>\n",
       "      <td>91</td>\n",
       "    </tr>\n",
       "    <tr>\n",
       "      <th>total_night_charge</th>\n",
       "      <td>11.01</td>\n",
       "    </tr>\n",
       "    <tr>\n",
       "      <th>total_intl_minutes</th>\n",
       "      <td>10</td>\n",
       "    </tr>\n",
       "    <tr>\n",
       "      <th>total_intl_calls</th>\n",
       "      <td>3</td>\n",
       "    </tr>\n",
       "    <tr>\n",
       "      <th>total_intl_charge</th>\n",
       "      <td>2.7</td>\n",
       "    </tr>\n",
       "    <tr>\n",
       "      <th>number_customer_service_calls</th>\n",
       "      <td>1</td>\n",
       "    </tr>\n",
       "    <tr>\n",
       "      <th>churned</th>\n",
       "      <td>False</td>\n",
       "    </tr>\n",
       "  </tbody>\n",
       "</table>\n",
       "</div>"
      ],
      "text/plain": [
       "                                      0\n",
       "state                                KS\n",
       "account_length                      128\n",
       "area_code                           415\n",
       "phone_number                   382-4657\n",
       "intl_plan                            no\n",
       "voice_mail_plan                     yes\n",
       "number_vmail_messages                25\n",
       "total_day_minutes                 265.1\n",
       "total_day_calls                     110\n",
       "total_day_charge                  45.07\n",
       "total_eve_minutes                 197.4\n",
       "total_eve_calls                      99\n",
       "total_eve_charge                  16.78\n",
       "total_night_minutes               244.7\n",
       "total_night_calls                    91\n",
       "total_night_charge                11.01\n",
       "total_intl_minutes                   10\n",
       "total_intl_calls                      3\n",
       "total_intl_charge                   2.7\n",
       "number_customer_service_calls         1\n",
       "churned                           False"
      ]
     },
     "execution_count": 4,
     "metadata": {},
     "output_type": "execute_result"
    }
   ],
   "source": [
    "data.head(1).T"
   ]
  },
  {
   "cell_type": "code",
   "execution_count": 5,
   "metadata": {
    "ExecuteTime": {
     "end_time": "2017-03-09T17:11:01.564122Z",
     "start_time": "2017-03-09T12:11:01.557967-05:00"
    }
   },
   "outputs": [],
   "source": [
    "# Remove extraneous columns\n",
    "data.drop(['state', 'area_code', 'phone_number'], axis=1, inplace=True)"
   ]
  },
  {
   "cell_type": "code",
   "execution_count": 6,
   "metadata": {
    "ExecuteTime": {
     "end_time": "2017-03-09T17:11:02.585712Z",
     "start_time": "2017-03-09T12:11:02.579981-05:00"
    }
   },
   "outputs": [
    {
     "data": {
      "text/plain": [
       "Index(['account_length', 'intl_plan', 'voice_mail_plan',\n",
       "       'number_vmail_messages', 'total_day_minutes', 'total_day_calls',\n",
       "       'total_day_charge', 'total_eve_minutes', 'total_eve_calls',\n",
       "       'total_eve_charge', 'total_night_minutes', 'total_night_calls',\n",
       "       'total_night_charge', 'total_intl_minutes', 'total_intl_calls',\n",
       "       'total_intl_charge', 'number_customer_service_calls', 'churned'],\n",
       "      dtype='object')"
      ]
     },
     "execution_count": 6,
     "metadata": {},
     "output_type": "execute_result"
    }
   ],
   "source": [
    "data.columns"
   ]
  },
  {
   "cell_type": "markdown",
   "metadata": {},
   "source": [
    "## Question 2\n",
    "\n",
    "* Notice that some of the columns are categorical data and some are floats. These features will need to be numerically encoded using one of the methods from the lecture.\n",
    "* Finally, remember from the lecture that K-nearest neighbors requires scaled data. Scale the data using one of the scaling methods discussed in the lecture."
   ]
  },
  {
   "cell_type": "code",
   "execution_count": 7,
   "metadata": {
    "ExecuteTime": {
     "end_time": "2017-03-09T17:11:04.545751Z",
     "start_time": "2017-03-09T12:11:04.509105-05:00"
    }
   },
   "outputs": [
    {
     "name": "stdout",
     "output_type": "stream",
     "text": [
      "0       0\n",
      "1       0\n",
      "2       0\n",
      "3       1\n",
      "4       1\n",
      "5       1\n",
      "6       0\n",
      "7       1\n",
      "8       0\n",
      "9       1\n",
      "10      0\n",
      "11      0\n",
      "12      0\n",
      "13      0\n",
      "14      0\n",
      "15      0\n",
      "16      0\n",
      "17      0\n",
      "18      0\n",
      "19      0\n",
      "20      0\n",
      "21      0\n",
      "22      0\n",
      "23      0\n",
      "24      0\n",
      "25      0\n",
      "26      0\n",
      "27      0\n",
      "28      0\n",
      "29      0\n",
      "       ..\n",
      "4970    0\n",
      "4971    0\n",
      "4972    0\n",
      "4973    0\n",
      "4974    0\n",
      "4975    0\n",
      "4976    0\n",
      "4977    1\n",
      "4978    0\n",
      "4979    0\n",
      "4980    0\n",
      "4981    0\n",
      "4982    0\n",
      "4983    0\n",
      "4984    0\n",
      "4985    0\n",
      "4986    0\n",
      "4987    0\n",
      "4988    0\n",
      "4989    0\n",
      "4990    0\n",
      "4991    0\n",
      "4992    0\n",
      "4993    0\n",
      "4994    0\n",
      "4995    0\n",
      "4996    0\n",
      "4997    0\n",
      "4998    0\n",
      "4999    0\n",
      "Name: intl_plan, Length: 5000, dtype: int64\n",
      "0       1\n",
      "1       1\n",
      "2       0\n",
      "3       0\n",
      "4       0\n",
      "5       0\n",
      "6       1\n",
      "7       0\n",
      "8       0\n",
      "9       1\n",
      "10      0\n",
      "11      0\n",
      "12      0\n",
      "13      0\n",
      "14      0\n",
      "15      0\n",
      "16      1\n",
      "17      0\n",
      "18      1\n",
      "19      0\n",
      "20      0\n",
      "21      0\n",
      "22      0\n",
      "23      0\n",
      "24      0\n",
      "25      0\n",
      "26      1\n",
      "27      0\n",
      "28      0\n",
      "29      0\n",
      "       ..\n",
      "4970    0\n",
      "4971    1\n",
      "4972    0\n",
      "4973    0\n",
      "4974    0\n",
      "4975    0\n",
      "4976    0\n",
      "4977    0\n",
      "4978    0\n",
      "4979    0\n",
      "4980    0\n",
      "4981    0\n",
      "4982    0\n",
      "4983    0\n",
      "4984    0\n",
      "4985    1\n",
      "4986    0\n",
      "4987    1\n",
      "4988    0\n",
      "4989    0\n",
      "4990    0\n",
      "4991    0\n",
      "4992    0\n",
      "4993    0\n",
      "4994    0\n",
      "4995    1\n",
      "4996    0\n",
      "4997    0\n",
      "4998    0\n",
      "4999    1\n",
      "Name: voice_mail_plan, Length: 5000, dtype: int64\n",
      "0       0\n",
      "1       0\n",
      "2       0\n",
      "3       0\n",
      "4       0\n",
      "5       0\n",
      "6       0\n",
      "7       0\n",
      "8       0\n",
      "9       0\n",
      "10      1\n",
      "11      0\n",
      "12      0\n",
      "13      0\n",
      "14      0\n",
      "15      1\n",
      "16      0\n",
      "17      0\n",
      "18      0\n",
      "19      0\n",
      "20      0\n",
      "21      1\n",
      "22      0\n",
      "23      0\n",
      "24      0\n",
      "25      0\n",
      "26      0\n",
      "27      0\n",
      "28      0\n",
      "29      0\n",
      "       ..\n",
      "4970    0\n",
      "4971    0\n",
      "4972    0\n",
      "4973    0\n",
      "4974    0\n",
      "4975    0\n",
      "4976    0\n",
      "4977    0\n",
      "4978    0\n",
      "4979    0\n",
      "4980    1\n",
      "4981    0\n",
      "4982    0\n",
      "4983    0\n",
      "4984    0\n",
      "4985    0\n",
      "4986    0\n",
      "4987    0\n",
      "4988    0\n",
      "4989    0\n",
      "4990    1\n",
      "4991    1\n",
      "4992    0\n",
      "4993    0\n",
      "4994    0\n",
      "4995    0\n",
      "4996    1\n",
      "4997    0\n",
      "4998    0\n",
      "4999    0\n",
      "Name: churned, Length: 5000, dtype: int64\n"
     ]
    }
   ],
   "source": [
    "from sklearn.preprocessing import LabelBinarizer\n",
    "\n",
    "lb = LabelBinarizer()\n",
    "\n",
    "for col in ['intl_plan', 'voice_mail_plan', 'churned']:\n",
    "    data[col] = lb.fit_transform(data[col])\n",
    "    print(data[col])"
   ]
  },
  {
   "cell_type": "code",
   "execution_count": 8,
   "metadata": {
    "ExecuteTime": {
     "end_time": "2017-03-09T17:11:04.736451Z",
     "start_time": "2017-03-09T12:11:04.718049-05:00"
    }
   },
   "outputs": [],
   "source": [
    "# Mute the sklearn warning\n",
    "import warnings\n",
    "warnings.filterwarnings('ignore', module='sklearn')\n",
    "\n",
    "from sklearn.preprocessing import MinMaxScaler\n",
    "\n",
    "msc = MinMaxScaler()      #Set values between 0 - 1 from the minimum to the maximum of the data.\n",
    "\n",
    "data = pd.DataFrame(msc.fit_transform(data),  # this is an np.array, not a dataframe.\n",
    "                    columns=data.columns)"
   ]
  },
  {
   "cell_type": "markdown",
   "metadata": {},
   "source": [
    "## Question 3\n",
    "\n",
    "* Separate the feature columns (everything except `churned`) from the label (`churned`). This will create two tables.\n",
    "* Fit a K-nearest neighbors model with a value of `k=3` to this data and predict the outcome on the same data."
   ]
  },
  {
   "cell_type": "code",
   "execution_count": 9,
   "metadata": {
    "ExecuteTime": {
     "end_time": "2017-03-09T17:11:50.280188Z",
     "start_time": "2017-03-09T12:11:50.269326-05:00"
    }
   },
   "outputs": [],
   "source": [
    "# Get a list of all the columns that don't contain the label\n",
    "x_cols = [x for x in data.columns if x != 'churned']\n",
    "\n",
    "# Split the data into two dataframes\n",
    "X_data = data[x_cols]\n",
    "y_data = data['churned']\n",
    "\n",
    "# # alternatively:\n",
    "# X_data = data.copy()\n",
    "# y_data = X_data.pop('churned')"
   ]
  },
  {
   "cell_type": "code",
   "execution_count": 10,
   "metadata": {
    "ExecuteTime": {
     "end_time": "2017-03-09T17:11:50.989446Z",
     "start_time": "2017-03-09T12:11:50.498708-05:00"
    }
   },
   "outputs": [],
   "source": [
    "from sklearn.neighbors import KNeighborsClassifier\n",
    "\n",
    "knn = KNeighborsClassifier(n_neighbors=3)\n",
    "\n",
    "knn = knn.fit(X_data, y_data) #Here we are fitting our model, it means that inside knn library theres an...\n",
    "                              #...algorithm in the fit function that finds a pattern for the data and with that makes the model.\n",
    "y_pred = knn.predict(X_data)  #Finally we can predict the values of the target..."
   ]
  },
  {
   "cell_type": "markdown",
   "metadata": {},
   "source": [
    "## Question 4\n",
    "\n",
    "Ways to measure error haven't been discussed in class yet, but accuracy is an easy one to understand--it is simply the percent of labels that were correctly predicted (either true or false). \n",
    "\n",
    "* Write a function to calculate accuracy using the actual and predicted labels.\n",
    "* Using the function, calculate the accuracy of this K-nearest neighbors model on the data."
   ]
  },
  {
   "cell_type": "code",
   "execution_count": 11,
   "metadata": {
    "ExecuteTime": {
     "end_time": "2017-03-09T17:11:50.997204Z",
     "start_time": "2017-03-09T12:11:50.991392-05:00"
    }
   },
   "outputs": [],
   "source": [
    "# Function to calculate the % of values that were correctly predicted\n",
    "\n",
    "def accuracy(real, predict):\n",
    "    return sum(y_data == y_pred) / float(real.shape[0])"
   ]
  },
  {
   "cell_type": "code",
   "execution_count": 12,
   "metadata": {
    "ExecuteTime": {
     "end_time": "2017-03-09T17:11:51.128466Z",
     "start_time": "2017-03-09T12:11:51.115874-05:00"
    }
   },
   "outputs": [
    {
     "name": "stdout",
     "output_type": "stream",
     "text": [
      "0.9422\n"
     ]
    }
   ],
   "source": [
    "print(accuracy(y_data, y_pred))"
   ]
  },
  {
   "cell_type": "markdown",
   "metadata": {},
   "source": [
    "## Question 5\n",
    "\n",
    "* Fit the K-nearest neighbors model again with `n_neighbors=3` but this time use distance for the weights. Calculate the accuracy using the function you created above. \n",
    "* Fit another K-nearest neighbors model. This time use uniform weights but set the power parameter for the Minkowski distance metric to be 1 (`p=1`) i.e. Manhattan Distance.\n",
    "\n",
    "When weighted distances are used for part 1 of this question, a value of 1.0 should be returned for the accuracy. Why do you think this is? *Hint:* we are predicting on the data and with KNN the model *is* the data. We will learn how to avoid this pitfall in the next lecture."
   ]
  },
  {
   "cell_type": "code",
   "execution_count": 13,
   "metadata": {
    "ExecuteTime": {
     "end_time": "2017-03-09T17:11:52.047123Z",
     "start_time": "2017-03-09T12:11:51.538212-05:00"
    }
   },
   "outputs": [
    {
     "name": "stdout",
     "output_type": "stream",
     "text": [
      "1.0\n"
     ]
    }
   ],
   "source": [
    "#Student writes code here\n",
    "from sklearn.neighbors import KNeighborsClassifier\n",
    "\n",
    "knn = KNeighborsClassifier(n_neighbors=3, weights='distance') #In this case we use the parameter 'weights= 'distance'', so the algorithm gives more importance to the points that are closer to the query point than the ones that are further\n",
    "\n",
    "knn = knn.fit(X_data, y_data) #Here we are fitting our model, it means that inside knn library theres an...\n",
    "                              #...algorithm in the fit function that finds a pattern for the data and with that makes the model.\n",
    "y_pred = knn.predict(X_data)  #Finally we can predict the values of the target...\n",
    "\n",
    "print(accuracy(y_data, y_pred))"
   ]
  },
  {
   "cell_type": "code",
   "execution_count": 14,
   "metadata": {
    "ExecuteTime": {
     "end_time": "2017-03-09T17:11:52.755941Z",
     "start_time": "2017-03-09T12:11:52.049816-05:00"
    }
   },
   "outputs": [
    {
     "name": "stdout",
     "output_type": "stream",
     "text": [
      "0.9456\n"
     ]
    }
   ],
   "source": [
    "#Student writes code here\n",
    "from sklearn.neighbors import KNeighborsClassifier\n",
    "\n",
    "knn = KNeighborsClassifier(n_neighbors=3, weights='uniform', p=1) \n",
    "\n",
    "knn = knn.fit(X_data, y_data) #Here we are fitting our model, it means that inside knn library theres an...\n",
    "                              #...algorithm in the fit function that finds a pattern for the data and with that makes the model.\n",
    "y_pred = knn.predict(X_data)  #Finally we can predict the values of the target...\n",
    "\n",
    "print(accuracy(y_data, y_pred))"
   ]
  },
  {
   "cell_type": "markdown",
   "metadata": {},
   "source": [
    "## Question 6\n",
    "\n",
    "* Fit a K-nearest neighbors model using values of `k` (`n_neighbors`) ranging from 1 to 20. Use uniform weights (the default). The coefficient for the Minkowski distance (`p`) can be set to either 1 or 2--just be consistent. Store the accuracy and the value of `k` used from each of these fits in a list or dictionary.\n",
    "* Plot (or view the table of) the `accuracy` vs `k`. What do you notice happens when `k=1`? Why do you think this is? *Hint:* it's for the same reason discussed above."
   ]
  },
  {
   "cell_type": "code",
   "execution_count": 19,
   "metadata": {
    "ExecuteTime": {
     "end_time": "2017-03-09T17:12:01.329053Z",
     "start_time": "2017-03-09T12:11:52.759302-05:00"
    }
   },
   "outputs": [
    {
     "name": "stdout",
     "output_type": "stream",
     "text": [
      "1.0\n",
      "0.9286\n",
      "0.9456\n",
      "0.9214\n",
      "0.9356\n",
      "0.9216\n",
      "0.929\n",
      "0.917\n",
      "0.9256\n",
      "0.9126\n",
      "0.921\n",
      "0.9124\n",
      "0.9178\n",
      "0.9096\n",
      "0.9146\n",
      "0.9074\n",
      "0.9126\n",
      "0.9054\n",
      "0.9104\n",
      "0.9022\n"
     ]
    }
   ],
   "source": [
    "#Student writes code here\n",
    "from sklearn.neighbors import KNeighborsClassifier\n",
    "\n",
    "k_dict = dict()\n",
    "\n",
    "for k in range(20):\n",
    "    knn = KNeighborsClassifier(n_neighbors=k+1, weights='uniform', p=1) \n",
    "\n",
    "    knn = knn.fit(X_data, y_data) \n",
    "\n",
    "    y_pred = knn.predict(X_data)  \n",
    "\n",
    "    print(accuracy(y_data, y_pred))\n",
    "    \n",
    "    k_dict[k+1] = accuracy(y_data, y_pred)"
   ]
  },
  {
   "cell_type": "code",
   "execution_count": 18,
   "metadata": {},
   "outputs": [
    {
     "data": {
      "image/png": "[encoded data removed]",
      "text/plain": [
       "<Figure size 432x288 with 1 Axes>"
      ]
     },
     "metadata": {},
     "output_type": "display_data"
    }
   ],
   "source": [
    "import matplotlib.pyplot as plt\n",
    "plt.plot(k_dict.keys(), k_dict.values(), ls='', marker='o')\n",
    "plt.show()"
   ]
  }
 ],
 "metadata": {
  "anaconda-cloud": {},
  "kernelspec": {
   "display_name": "Python 3",
   "language": "python",
   "name": "python3"
  },
  "language_info": {
   "codemirror_mode": {
    "name": "ipython",
    "version": 3
   },
   "file_extension": ".py",
   "mimetype": "text/x-python",
   "name": "python",
   "nbconvert_exporter": "python",
   "pygments_lexer": "ipython3",
   "version": "3.6.3"
  },
  "name": "Linear_Regression_and_K_Nearest_Neighbors_Exercises-ANSWERS",
  "notebookId": 2125319687183902
 },
 "nbformat": 4,
 "nbformat_minor": 1
}
