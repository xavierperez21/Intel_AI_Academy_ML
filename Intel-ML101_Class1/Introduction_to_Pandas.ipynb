{
 "cells": [
  {
   "cell_type": "markdown",
   "metadata": {},
   "source": [
    "<h1 style=\"color:#0AF\">PANDAS SERIES CREATION AND INDEXING</h2>"
   ]
  },
  {
   "cell_type": "code",
   "execution_count": 19,
   "metadata": {},
   "outputs": [],
   "source": [
    "import pandas as pd\n",
    "import numpy as np"
   ]
  },
  {
   "cell_type": "markdown",
   "metadata": {},
   "source": [
    "<h2>Use data from step tracking application to create a Pandas Series</h2>"
   ]
  },
  {
   "cell_type": "code",
   "execution_count": 8,
   "metadata": {},
   "outputs": [],
   "source": [
    "step_data = [3620, 7821, 9761, 3907, 4338, 5373]\n",
    "step_counts = pd.Series(step_data, name='steps')"
   ]
  },
  {
   "cell_type": "code",
   "execution_count": 7,
   "metadata": {},
   "outputs": [
    {
     "name": "stdout",
     "output_type": "stream",
     "text": [
      "0    3620\n",
      "1    7821\n",
      "2    9761\n",
      "3    3907\n",
      "4    4338\n",
      "5    5373\n",
      "Name: steps, dtype: int64\n"
     ]
    }
   ],
   "source": [
    "print(step_counts)"
   ]
  },
  {
   "cell_type": "markdown",
   "metadata": {},
   "source": [
    "<h2>Add a date range to the Series</h2>"
   ]
  },
  {
   "cell_type": "code",
   "execution_count": 10,
   "metadata": {},
   "outputs": [],
   "source": [
    "step_counts.index = pd.date_range('20150329', periods=6)"
   ]
  },
  {
   "cell_type": "code",
   "execution_count": 11,
   "metadata": {},
   "outputs": [
    {
     "name": "stdout",
     "output_type": "stream",
     "text": [
      "2015-03-29    3620\n",
      "2015-03-30    7821\n",
      "2015-03-31    9761\n",
      "2015-04-01    3907\n",
      "2015-04-02    4338\n",
      "2015-04-03    5373\n",
      "Freq: D, Name: steps, dtype: int64\n"
     ]
    }
   ],
   "source": [
    "print(step_counts)"
   ]
  },
  {
   "cell_type": "markdown",
   "metadata": {},
   "source": [
    "<h2>Select data by the index values</h2>"
   ]
  },
  {
   "cell_type": "code",
   "execution_count": 12,
   "metadata": {},
   "outputs": [
    {
     "name": "stdout",
     "output_type": "stream",
     "text": [
      "3907\n"
     ]
    }
   ],
   "source": [
    "#Just lije a dictionary\n",
    "print(step_counts['2015-04-01'])"
   ]
  },
  {
   "cell_type": "code",
   "execution_count": 14,
   "metadata": {},
   "outputs": [
    {
     "name": "stdout",
     "output_type": "stream",
     "text": [
      "3907\n"
     ]
    }
   ],
   "source": [
    "#Or by index position-like an array\n",
    "print(step_counts[3])"
   ]
  },
  {
   "cell_type": "code",
   "execution_count": 15,
   "metadata": {},
   "outputs": [
    {
     "name": "stdout",
     "output_type": "stream",
     "text": [
      "2015-04-01    3907\n",
      "2015-04-02    4338\n",
      "2015-04-03    5373\n",
      "Freq: D, Name: steps, dtype: int64\n"
     ]
    }
   ],
   "source": [
    "#Select all of April\n",
    "print(step_counts['2015-04'])"
   ]
  },
  {
   "cell_type": "markdown",
   "metadata": {},
   "source": [
    "<h1 style=\"color: blue\">PANDAS DATA TYPES AND IMPUTATION</h1>"
   ]
  },
  {
   "cell_type": "markdown",
   "metadata": {},
   "source": [
    "<h2>Data types can be viewed and converted</h2>"
   ]
  },
  {
   "cell_type": "code",
   "execution_count": 16,
   "metadata": {},
   "outputs": [
    {
     "name": "stdout",
     "output_type": "stream",
     "text": [
      "int64\n"
     ]
    }
   ],
   "source": [
    "#View the data type\n",
    "print(step_counts.dtypes)"
   ]
  },
  {
   "cell_type": "code",
   "execution_count": 22,
   "metadata": {},
   "outputs": [
    {
     "name": "stdout",
     "output_type": "stream",
     "text": [
      "float64\n"
     ]
    }
   ],
   "source": [
    "#Convert to a float\n",
    "step_counts = step_counts.astype(np.float)\n",
    "print(step_counts.dtypes)"
   ]
  },
  {
   "cell_type": "markdown",
   "metadata": {},
   "source": [
    "<h2>Invalid data points can be easily filed with values</h2>"
   ]
  },
  {
   "cell_type": "code",
   "execution_count": 25,
   "metadata": {},
   "outputs": [
    {
     "name": "stdout",
     "output_type": "stream",
     "text": [
      "2015-03-29    3620.0\n",
      "2015-03-30       NaN\n",
      "2015-03-31       NaN\n",
      "2015-04-01    3907.0\n",
      "2015-04-02    4338.0\n",
      "2015-04-03    5373.0\n",
      "Freq: D, Name: steps, dtype: float64\n"
     ]
    }
   ],
   "source": [
    "#Create invalid data\n",
    "step_counts[1:3] = np.NaN\n",
    "print(step_counts)"
   ]
  },
  {
   "cell_type": "code",
   "execution_count": 45,
   "metadata": {},
   "outputs": [
    {
     "name": "stdout",
     "output_type": "stream",
     "text": [
      "2015-03-29    3620.0\n",
      "2015-03-30       0.0\n",
      "2015-03-31       0.0\n",
      "2015-04-01    3907.0\n",
      "2015-04-02    4338.0\n",
      "2015-04-03    5373.0\n",
      "Freq: D, Name: steps, dtype: float64\n"
     ]
    }
   ],
   "source": [
    "#Now fill it in with zeros\n",
    "step_counts = step_counts.fillna(0.)\n",
    "print(step_counts)"
   ]
  },
  {
   "cell_type": "markdown",
   "metadata": {},
   "source": [
    "<h1 style=\"color:#C0E\">PANDAS DATAFRAME CREATION AND METHODS</h1>"
   ]
  },
  {
   "cell_type": "markdown",
   "metadata": {},
   "source": [
    "<h2>Data Frames can be created from lists, dictionaries, and Panda Series </h2>"
   ]
  },
  {
   "cell_type": "code",
   "execution_count": 28,
   "metadata": {},
   "outputs": [
    {
     "name": "stdout",
     "output_type": "stream",
     "text": [
      "      0     1\n",
      "0  3620  10.7\n",
      "1  7821   0.0\n",
      "2  9761   NaN\n",
      "3  3907   2.4\n",
      "4  4338  15.3\n",
      "5  5373  10.9\n"
     ]
    }
   ],
   "source": [
    "#Cycling distance\n",
    "cycling_data = [10.7, 0, None, 2.4, 15.3, 10.9, 0, None]\n",
    "\n",
    "#Create a tuple of data\n",
    "joined_data = list(zip(step_data, cycling_data))\n",
    "\n",
    "#The data frame\n",
    "activity_data_frame = pd.DataFrame(joined_data)\n",
    "\n",
    "print(activity_data_frame)"
   ]
  },
  {
   "cell_type": "markdown",
   "metadata": {},
   "source": [
    "<h2>Labeled columns and an index can be added</h2>"
   ]
  },
  {
   "cell_type": "code",
   "execution_count": 29,
   "metadata": {},
   "outputs": [
    {
     "name": "stdout",
     "output_type": "stream",
     "text": [
      "            Walking  Cycling\n",
      "2015-03-29     3620     10.7\n",
      "2015-03-30     7821      0.0\n",
      "2015-03-31     9761      NaN\n",
      "2015-04-01     3907      2.4\n",
      "2015-04-02     4338     15.3\n",
      "2015-04-03     5373     10.9\n"
     ]
    }
   ],
   "source": [
    "#Add column names to dataframe\n",
    "activity_data_frame = pd.DataFrame(joined_data,\n",
    "                                   index=pd.date_range('20150329',\n",
    "                                   periods=6),\n",
    "                                   columns=['Walking','Cycling'])\n",
    "print(activity_data_frame)"
   ]
  },
  {
   "cell_type": "markdown",
   "metadata": {},
   "source": [
    "<h1 style=\"color: #D00\">INDEXING DATAFRAME ROWS</h2>"
   ]
  },
  {
   "cell_type": "markdown",
   "metadata": {},
   "source": [
    "<h2>DataFrame rows can be indexed by row using the 'loc' and 'iloc' methods</h2>"
   ]
  },
  {
   "cell_type": "code",
   "execution_count": 31,
   "metadata": {},
   "outputs": [
    {
     "name": "stdout",
     "output_type": "stream",
     "text": [
      "Walking    3907.0\n",
      "Cycling       2.4\n",
      "Name: 2015-04-01 00:00:00, dtype: float64\n"
     ]
    }
   ],
   "source": [
    "#Select row of data by index name\n",
    "print(activity_data_frame.loc['2015-04-01'])"
   ]
  },
  {
   "cell_type": "code",
   "execution_count": 32,
   "metadata": {},
   "outputs": [
    {
     "name": "stdout",
     "output_type": "stream",
     "text": [
      "Walking    3907.0\n",
      "Cycling       2.4\n",
      "Name: 2015-04-01 00:00:00, dtype: float64\n"
     ]
    }
   ],
   "source": [
    "#Select row of data by integer position\n",
    "print(activity_data_frame.iloc[-3])"
   ]
  },
  {
   "cell_type": "markdown",
   "metadata": {},
   "source": [
    "<h1 style=\"color: #D00\">INDEXING DATAFRAME COLUMNS</h2>"
   ]
  },
  {
   "cell_type": "markdown",
   "metadata": {},
   "source": [
    "<h2>DataFrame columns can be indexed by name</h2>"
   ]
  },
  {
   "cell_type": "code",
   "execution_count": 33,
   "metadata": {},
   "outputs": [
    {
     "name": "stdout",
     "output_type": "stream",
     "text": [
      "2015-03-29    3620\n",
      "2015-03-30    7821\n",
      "2015-03-31    9761\n",
      "2015-04-01    3907\n",
      "2015-04-02    4338\n",
      "2015-04-03    5373\n",
      "Freq: D, Name: Walking, dtype: int64\n"
     ]
    }
   ],
   "source": [
    "#Name of column\n",
    "print(activity_data_frame['Walking'])"
   ]
  },
  {
   "cell_type": "markdown",
   "metadata": {},
   "source": [
    "<h2>DataFrame columns can also be indexed as properties</h2>"
   ]
  },
  {
   "cell_type": "code",
   "execution_count": 34,
   "metadata": {},
   "outputs": [
    {
     "name": "stdout",
     "output_type": "stream",
     "text": [
      "2015-03-29    3620\n",
      "2015-03-30    7821\n",
      "2015-03-31    9761\n",
      "2015-04-01    3907\n",
      "2015-04-02    4338\n",
      "2015-04-03    5373\n",
      "Freq: D, Name: Walking, dtype: int64\n"
     ]
    }
   ],
   "source": [
    "#Object-oriented approach\n",
    "print(activity_data_frame.Walking)"
   ]
  },
  {
   "cell_type": "markdown",
   "metadata": {},
   "source": [
    "<h2>DataFrame columns can be indexed by integer</h2>"
   ]
  },
  {
   "cell_type": "code",
   "execution_count": 38,
   "metadata": {},
   "outputs": [
    {
     "name": "stdout",
     "output_type": "stream",
     "text": [
      "2015-03-29    3620\n",
      "2015-03-30    7821\n",
      "2015-03-31    9761\n",
      "2015-04-01    3907\n",
      "2015-04-02    4338\n",
      "2015-04-03    5373\n",
      "Freq: D, Name: Walking, dtype: int64\n"
     ]
    }
   ],
   "source": [
    "#First column\n",
    "print(activity_data_frame.iloc[:,0])"
   ]
  },
  {
   "cell_type": "markdown",
   "metadata": {},
   "source": [
    "<h1 style=\"color:#00D\">READING DATA WITH PANDAS</h1>"
   ]
  },
  {
   "cell_type": "markdown",
   "metadata": {},
   "source": [
    "<h2>CSV and other common filetypes can be read with a single command</h2>"
   ]
  },
  {
   "cell_type": "code",
   "execution_count": 46,
   "metadata": {},
   "outputs": [
    {
     "name": "stdout",
     "output_type": "stream",
     "text": [
      "   sepal_length  sepal_width  petal_length  petal_width      species\n",
      "0           5.1          3.5           1.4          0.2  Iris-setosa\n",
      "1           4.9          3.0           1.4          0.2  Iris-setosa\n",
      "2           4.7          3.2           1.3          0.2  Iris-setosa\n",
      "3           4.6          3.1           1.5          0.2  Iris-setosa\n",
      "4           5.0          3.6           1.4          0.2  Iris-setosa\n"
     ]
    }
   ],
   "source": [
    "#The location of the data file\n",
    "filepath = 'data/Iris_Data.csv'\n",
    "\n",
    "#Import the data\n",
    "data = pd.read_csv(filepath)\n",
    "\n",
    "#Print a few rows\n",
    "print(data.iloc[:5])"
   ]
  },
  {
   "cell_type": "markdown",
   "metadata": {},
   "source": [
    "<h1 style=\"color:#00D\">ASSIGNING NEW DATA TO A DATAFRAME</h1>"
   ]
  },
  {
   "cell_type": "markdown",
   "metadata": {},
   "source": [
    "<h2>Data can be (re)assigned to a DataFrame column</h2>"
   ]
  },
  {
   "cell_type": "code",
   "execution_count": 41,
   "metadata": {},
   "outputs": [
    {
     "name": "stdout",
     "output_type": "stream",
     "text": [
      "   petal_width      species  sepal_area\n",
      "0          0.2  Iris-setosa       17.85\n",
      "1          0.2  Iris-setosa       14.70\n",
      "2          0.2  Iris-setosa       15.04\n",
      "3          0.2  Iris-setosa       14.26\n",
      "4          0.2  Iris-setosa       18.00\n"
     ]
    }
   ],
   "source": [
    "#Create a new column that is a product of both measurements\n",
    "data['sepal_area'] = data.sepal_length*data.sepal_width\n",
    "\n",
    "#Print a few rows and columns\n",
    "print(data.iloc[:5, -3:])"
   ]
  },
  {
   "cell_type": "markdown",
   "metadata": {},
   "source": [
    "<h1 style=\"color:#C00\">APPLYING A FUNCTION TO A DATAFRAME COLUMN</h1>"
   ]
  },
  {
   "cell_type": "markdown",
   "metadata": {},
   "source": [
    "<h2>Functions can be applied to columns or rows of a DataFrame or Series</h2>"
   ]
  },
  {
   "cell_type": "code",
   "execution_count": 42,
   "metadata": {},
   "outputs": [
    {
     "name": "stdout",
     "output_type": "stream",
     "text": [
      "       species  sepal_area  abbrev\n",
      "0  Iris-setosa       17.85  setosa\n",
      "1  Iris-setosa       14.70  setosa\n",
      "2  Iris-setosa       15.04  setosa\n",
      "3  Iris-setosa       14.26  setosa\n",
      "4  Iris-setosa       18.00  setosa\n"
     ]
    }
   ],
   "source": [
    "#The lambda function applies what follows it to each row of data\n",
    "data['abbrev'] = (data.species.apply(lambda x: x.replace('Iris-','')))\n",
    "\n",
    "#Note that there are other ways to accomplish the above\n",
    "print(data.iloc[:5, -3:])"
   ]
  },
  {
   "cell_type": "markdown",
   "metadata": {},
   "source": [
    "<h1 style=\"color:#C00\">CONCATENATING TWO DATAFRAMES</h1>"
   ]
  },
  {
   "cell_type": "markdown",
   "metadata": {},
   "source": [
    "<h2>Two DataFrames can be concatenated along either dimension</h2>"
   ]
  },
  {
   "cell_type": "code",
   "execution_count": 48,
   "metadata": {
    "scrolled": false
   },
   "outputs": [
    {
     "name": "stdout",
     "output_type": "stream",
     "text": [
      "     petal_length  petal_width         species\n",
      "0             1.4          0.2     Iris-setosa\n",
      "1             1.4          0.2     Iris-setosa\n",
      "148           5.4          2.3  Iris-virginica\n",
      "149           5.1          1.8  Iris-virginica\n"
     ]
    }
   ],
   "source": [
    "#Concatenate the first two and las two rows\n",
    "small_data = pd.concat([data.iloc[:2], data.iloc[-2:]])\n",
    "print(small_data.iloc[:, -3:])"
   ]
  },
  {
   "cell_type": "markdown",
   "metadata": {},
   "source": [
    "<h1 style=\"color:#C00\">AGGREGATED STATISTICS WITH GROUP BY</h1>"
   ]
  },
  {
   "cell_type": "markdown",
   "metadata": {},
   "source": [
    "<h2>Using the group by method calculated aggregated DataFrame statistics</h2>"
   ]
  },
  {
   "cell_type": "code",
   "execution_count": 50,
   "metadata": {},
   "outputs": [
    {
     "name": "stdout",
     "output_type": "stream",
     "text": [
      "species\n",
      "Iris-setosa        50\n",
      "Iris-versicolor    50\n",
      "Iris-virginica     50\n",
      "dtype: int64\n"
     ]
    }
   ],
   "source": [
    "#Use the size method with a DataFrame to get count...\n",
    "#...for a series, use the .value_counts method\n",
    "group_sizes = (data.groupby('species').size())\n",
    "print(group_sizes)"
   ]
  },
  {
   "cell_type": "markdown",
   "metadata": {},
   "source": [
    "<h1 style=\"color:#C00\">PERFORMING STATISTICAL CALCULATIONS</h1>"
   ]
  },
  {
   "cell_type": "markdown",
   "metadata": {},
   "source": [
    "<h2>Pandas contains variety of statistical methods: mean, median and mode</h2>"
   ]
  },
  {
   "cell_type": "code",
   "execution_count": 54,
   "metadata": {},
   "outputs": [
    {
     "name": "stdout",
     "output_type": "stream",
     "text": [
      "sepal_length    5.843333\n",
      "sepal_width     3.054000\n",
      "petal_length    3.758667\n",
      "petal_width     1.198667\n",
      "dtype: float64\n"
     ]
    }
   ],
   "source": [
    "#Mean calculated on a DataFrame\n",
    "print(data.mean())"
   ]
  },
  {
   "cell_type": "code",
   "execution_count": 52,
   "metadata": {},
   "outputs": [
    {
     "name": "stdout",
     "output_type": "stream",
     "text": [
      "4.35\n"
     ]
    }
   ],
   "source": [
    "#Median calculated on a Series\n",
    "print(data.petal_length.median())"
   ]
  },
  {
   "cell_type": "code",
   "execution_count": 53,
   "metadata": {},
   "outputs": [
    {
     "name": "stdout",
     "output_type": "stream",
     "text": [
      "0    1.5\n",
      "dtype: float64\n"
     ]
    }
   ],
   "source": [
    "#Mode calculated on a Series\n",
    "print(data.petal_length.mode())"
   ]
  },
  {
   "cell_type": "markdown",
   "metadata": {},
   "source": [
    "<h2>Standard deviation, variance, SEM, and quantiles can also be calculated</h2>"
   ]
  },
  {
   "cell_type": "code",
   "execution_count": 55,
   "metadata": {},
   "outputs": [
    {
     "name": "stdout",
     "output_type": "stream",
     "text": [
      "1.7644204199522626 3.113179418344519 0.1440643240210085\n"
     ]
    }
   ],
   "source": [
    "#Standard dev, variance, and SEM\n",
    "print(data.petal_length.std(),\n",
    "      data.petal_length.var(),\n",
    "      data.petal_length.sem())"
   ]
  },
  {
   "cell_type": "code",
   "execution_count": 56,
   "metadata": {},
   "outputs": [
    {
     "name": "stdout",
     "output_type": "stream",
     "text": [
      "sepal_length    4.3\n",
      "sepal_width     2.0\n",
      "petal_length    1.0\n",
      "petal_width     0.1\n",
      "Name: 0, dtype: float64\n"
     ]
    }
   ],
   "source": [
    "#As well as quantiles\n",
    "print(data.quantile(0))"
   ]
  },
  {
   "cell_type": "markdown",
   "metadata": {},
   "source": [
    "<h2>Multiple calculations can be presented in a DataFrame</h2>"
   ]
  },
  {
   "cell_type": "code",
   "execution_count": 57,
   "metadata": {},
   "outputs": [
    {
     "name": "stdout",
     "output_type": "stream",
     "text": [
      "       sepal_length  sepal_width  petal_length  petal_width\n",
      "count    150.000000   150.000000    150.000000   150.000000\n",
      "mean       5.843333     3.054000      3.758667     1.198667\n",
      "std        0.828066     0.433594      1.764420     0.763161\n",
      "min        4.300000     2.000000      1.000000     0.100000\n",
      "25%        5.100000     2.800000      1.600000     0.300000\n",
      "50%        5.800000     3.000000      4.350000     1.300000\n",
      "75%        6.400000     3.300000      5.100000     1.800000\n",
      "max        7.900000     4.400000      6.900000     2.500000\n"
     ]
    }
   ],
   "source": [
    "print(data.describe())"
   ]
  },
  {
   "cell_type": "markdown",
   "metadata": {},
   "source": [
    "<h1 style=\"color:#C00\">SAMPLING FROM DATAFRAMES</h1>"
   ]
  },
  {
   "cell_type": "markdown",
   "metadata": {},
   "source": [
    "<h2>DataFrames can be randomly sampled from</h2>"
   ]
  },
  {
   "cell_type": "code",
   "execution_count": 58,
   "metadata": {},
   "outputs": [
    {
     "name": "stdout",
     "output_type": "stream",
     "text": [
      "     petal_length  petal_width          species\n",
      "73            4.7          1.2  Iris-versicolor\n",
      "18            1.7          0.3      Iris-setosa\n",
      "118           6.9          2.3   Iris-virginica\n",
      "78            4.5          1.5  Iris-versicolor\n",
      "76            4.8          1.4  Iris-versicolor\n"
     ]
    }
   ],
   "source": [
    "#Sample 5 rows without replacement\n",
    "sample = (data.sample(n=5,\n",
    "                      replace=False,\n",
    "                      random_state=42))\n",
    "print(sample.iloc[:, -3:])"
   ]
  },
  {
   "cell_type": "markdown",
   "metadata": {},
   "source": [
    "<h3>SciPy and NumPy also contain a variety of statistical functions...</h3>"
   ]
  }
 ],
 "metadata": {
  "kernelspec": {
   "display_name": "Python 3",
   "language": "python",
   "name": "python3"
  },
  "language_info": {
   "codemirror_mode": {
    "name": "ipython",
    "version": 3
   },
   "file_extension": ".py",
   "mimetype": "text/x-python",
   "name": "python",
   "nbconvert_exporter": "python",
   "pygments_lexer": "ipython3",
   "version": "3.6.3"
  }
 },
 "nbformat": 4,
 "nbformat_minor": 2
}
